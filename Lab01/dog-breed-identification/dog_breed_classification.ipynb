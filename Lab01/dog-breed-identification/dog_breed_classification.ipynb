{
 "cells": [
  {
   "cell_type": "code",
   "execution_count": 1,
   "metadata": {},
   "outputs": [
    {
     "name": "stderr",
     "output_type": "stream",
     "text": [
      "c:\\Users\\ADMIN\\anaconda3\\lib\\site-packages\\scipy\\__init__.py:155: UserWarning: A NumPy version >=1.18.5 and <1.25.0 is required for this version of SciPy (detected version 1.26.2\n",
      "  warnings.warn(f\"A NumPy version >={np_minversion} and <{np_maxversion}\"\n"
     ]
    }
   ],
   "source": [
    "import os\n",
    "import numpy as np\n",
    "import pandas as pd\n",
    "import matplotlib.pyplot as plt\n",
    "from tqdm import tqdm\n",
    "from tensorflow.keras.layers import (\n",
    "    Conv2D,\n",
    "    MaxPooling2D,\n",
    "    Flatten,\n",
    "    Dense,\n",
    "    Dropout,\n",
    "    Input,\n",
    "    Lambda,\n",
    ")\n",
    "from tensorflow.keras.preprocessing.image import load_img\n",
    "from tensorflow.keras.models import Sequential, Model\n",
    "from sklearn.model_selection import train_test_split\n",
    "from keras.applications.mobilenet_v2 import MobileNetV2, preprocess_input"
   ]
  },
  {
   "cell_type": "code",
   "execution_count": 2,
   "metadata": {},
   "outputs": [],
   "source": [
    "os.environ[\"CUDA_VISIBLE_DEVICES\"] = \"-1\""
   ]
  },
  {
   "cell_type": "code",
   "execution_count": 3,
   "metadata": {},
   "outputs": [],
   "source": [
    "data_dir = \"./data/train/\"\n",
    "labels_path = \"./data/labels.csv\"\n",
    "img_size = (224, 224, 3)"
   ]
  },
  {
   "cell_type": "code",
   "execution_count": 4,
   "metadata": {},
   "outputs": [
    {
     "data": {
      "text/html": [
       "<div>\n",
       "<style scoped>\n",
       "    .dataframe tbody tr th:only-of-type {\n",
       "        vertical-align: middle;\n",
       "    }\n",
       "\n",
       "    .dataframe tbody tr th {\n",
       "        vertical-align: top;\n",
       "    }\n",
       "\n",
       "    .dataframe thead th {\n",
       "        text-align: right;\n",
       "    }\n",
       "</style>\n",
       "<table border=\"1\" class=\"dataframe\">\n",
       "  <thead>\n",
       "    <tr style=\"text-align: right;\">\n",
       "      <th></th>\n",
       "      <th>id</th>\n",
       "      <th>breed</th>\n",
       "    </tr>\n",
       "  </thead>\n",
       "  <tbody>\n",
       "    <tr>\n",
       "      <th>0</th>\n",
       "      <td>000bec180eb18c7604dcecc8fe0dba07</td>\n",
       "      <td>boston_bull</td>\n",
       "    </tr>\n",
       "    <tr>\n",
       "      <th>1</th>\n",
       "      <td>001513dfcb2ffafc82cccf4d8bbaba97</td>\n",
       "      <td>dingo</td>\n",
       "    </tr>\n",
       "    <tr>\n",
       "      <th>2</th>\n",
       "      <td>001cdf01b096e06d78e9e5112d419397</td>\n",
       "      <td>pekinese</td>\n",
       "    </tr>\n",
       "    <tr>\n",
       "      <th>3</th>\n",
       "      <td>00214f311d5d2247d5dfe4fe24b2303d</td>\n",
       "      <td>bluetick</td>\n",
       "    </tr>\n",
       "    <tr>\n",
       "      <th>4</th>\n",
       "      <td>0021f9ceb3235effd7fcde7f7538ed62</td>\n",
       "      <td>golden_retriever</td>\n",
       "    </tr>\n",
       "  </tbody>\n",
       "</table>\n",
       "</div>"
      ],
      "text/plain": [
       "                                 id             breed\n",
       "0  000bec180eb18c7604dcecc8fe0dba07       boston_bull\n",
       "1  001513dfcb2ffafc82cccf4d8bbaba97             dingo\n",
       "2  001cdf01b096e06d78e9e5112d419397          pekinese\n",
       "3  00214f311d5d2247d5dfe4fe24b2303d          bluetick\n",
       "4  0021f9ceb3235effd7fcde7f7538ed62  golden_retriever"
      ]
     },
     "execution_count": 4,
     "metadata": {},
     "output_type": "execute_result"
    }
   ],
   "source": [
    "df = pd.read_csv(labels_path)\n",
    "df.head()"
   ]
  },
  {
   "cell_type": "code",
   "execution_count": 5,
   "metadata": {},
   "outputs": [],
   "source": [
    "df[\"image_path\"] = data_dir + df[\"id\"] + \".jpg\"\n",
    "df = df.drop(columns=\"id\")"
   ]
  },
  {
   "cell_type": "code",
   "execution_count": 6,
   "metadata": {},
   "outputs": [
    {
     "data": {
      "text/plain": [
       "120"
      ]
     },
     "execution_count": 6,
     "metadata": {},
     "output_type": "execute_result"
    }
   ],
   "source": [
    "breeds = sorted(df[\"breed\"].unique().tolist())\n",
    "len(breeds)"
   ]
  },
  {
   "cell_type": "code",
   "execution_count": 7,
   "metadata": {},
   "outputs": [],
   "source": [
    "class_to_num = dict(zip(breeds, range(len(breeds))))"
   ]
  },
  {
   "cell_type": "code",
   "execution_count": 8,
   "metadata": {},
   "outputs": [],
   "source": [
    "def image_processing(data: pd.DataFrame, image_size: tuple):\n",
    "    X = np.zeros(\n",
    "        [len(data), image_size[0], image_size[1], image_size[2]],\n",
    "        dtype=np.uint8,\n",
    "    )\n",
    "    y = np.zeros([len(data), 1], dtype=np.uint8)\n",
    "    for idx, row in tqdm(data.iterrows()):\n",
    "        img_pixels = load_img(row[\"image_path\"], target_size=image_size)\n",
    "        X[idx] = img_pixels\n",
    "        y[idx] = class_to_num[row[\"breed\"]]\n",
    "    print(\"Output Data Size: \", X.shape)\n",
    "    print(\"Output Label Size: \", y.shape)\n",
    "    return X, y"
   ]
  },
  {
   "cell_type": "code",
   "execution_count": 9,
   "metadata": {},
   "outputs": [
    {
     "name": "stderr",
     "output_type": "stream",
     "text": [
      "10222it [00:09, 1087.32it/s]"
     ]
    },
    {
     "name": "stdout",
     "output_type": "stream",
     "text": [
      "Output Data Size:  (10222, 224, 224, 3)\n",
      "Output Label Size:  (10222, 1)\n"
     ]
    },
    {
     "name": "stderr",
     "output_type": "stream",
     "text": [
      "\n"
     ]
    }
   ],
   "source": [
    "X, y = image_processing(df, img_size)"
   ]
  },
  {
   "cell_type": "code",
   "execution_count": 10,
   "metadata": {},
   "outputs": [],
   "source": [
    "def extract_feature(image_size: tuple, data):\n",
    "    input_layer = Input(image_size)\n",
    "    processor = Lambda(preprocess_input)(input_layer)\n",
    "    base_model = MobileNetV2(\n",
    "        weights=\"imagenet\", include_top=False, input_shape=image_size\n",
    "    )(processor)\n",
    "    maxPool = MaxPooling2D()(base_model)\n",
    "    feature_extractor = Model(inputs=input_layer, outputs=maxPool)\n",
    "    feature_maps = feature_extractor.predict(data, batch_size=64, verbose=1)\n",
    "    print(\"Feature maps shape: \", feature_maps.shape)\n",
    "    return feature_maps"
   ]
  },
  {
   "cell_type": "code",
   "execution_count": 11,
   "metadata": {},
   "outputs": [
    {
     "name": "stdout",
     "output_type": "stream",
     "text": [
      "160/160 [==============================] - 82s 511ms/step\n",
      "Feature maps shape:  (10222, 3, 3, 1280)\n"
     ]
    }
   ],
   "source": [
    "features = extract_feature(img_size, X)"
   ]
  },
  {
   "cell_type": "code",
   "execution_count": 12,
   "metadata": {},
   "outputs": [],
   "source": [
    "X_train, X_val, y_train, y_val = train_test_split(\n",
    "    features, y, test_size=0.2, random_state=12\n",
    ")"
   ]
  },
  {
   "cell_type": "code",
   "execution_count": 13,
   "metadata": {},
   "outputs": [],
   "source": [
    "X_train = X_train / 255.0\n",
    "X_val = X_val / 255.0"
   ]
  },
  {
   "cell_type": "code",
   "execution_count": 14,
   "metadata": {},
   "outputs": [
    {
     "name": "stdout",
     "output_type": "stream",
     "text": [
      "Model: \"sequential\"\n",
      "_________________________________________________________________\n",
      " Layer (type)                Output Shape              Param #   \n",
      "=================================================================\n",
      " flatten (Flatten)           (None, 11520)             0         \n",
      "                                                                 \n",
      " dense (Dense)               (None, 128)               1474688   \n",
      "                                                                 \n",
      " dropout (Dropout)           (None, 128)               0         \n",
      "                                                                 \n",
      " dense_1 (Dense)             (None, 120)               15480     \n",
      "                                                                 \n",
      "=================================================================\n",
      "Total params: 1,490,168\n",
      "Trainable params: 1,490,168\n",
      "Non-trainable params: 0\n",
      "_________________________________________________________________\n"
     ]
    }
   ],
   "source": [
    "model = Sequential()\n",
    "model.add(Input(X_train.shape[1:]))\n",
    "\n",
    "model.add(Flatten())\n",
    "\n",
    "model.add(Dense(128, activation=\"relu\"))\n",
    "model.add(Dropout(0.4))\n",
    "\n",
    "model.add(Dense(len(breeds), activation=\"softmax\"))\n",
    "model.compile(\n",
    "\n",
    "    loss=\"sparse_categorical_crossentropy\",\n",
    "\n",
    "    optimizer=\"adam\",\n",
    "\n",
    "    metrics=[\"accuracy\"],\n",
    ")\n",
    "\n",
    "\n",
    "model.summary()"
   ]
  },
  {
   "cell_type": "code",
   "execution_count": 15,
   "metadata": {},
   "outputs": [
    {
     "name": "stdout",
     "output_type": "stream",
     "text": [
      "Epoch 1/40\n",
      "64/64 [==============================] - 1s 9ms/step - loss: 4.5293 - accuracy: 0.1290 - val_loss: 4.1073 - val_accuracy: 0.3032\n",
      "Epoch 2/40\n",
      "64/64 [==============================] - 1s 8ms/step - loss: 3.5724 - accuracy: 0.2978 - val_loss: 2.8964 - val_accuracy: 0.5134\n",
      "Epoch 3/40\n",
      "64/64 [==============================] - 0s 8ms/step - loss: 2.5566 - accuracy: 0.4436 - val_loss: 2.0016 - val_accuracy: 0.6367\n",
      "Epoch 4/40\n",
      "64/64 [==============================] - 0s 8ms/step - loss: 1.9414 - accuracy: 0.5380 - val_loss: 1.5350 - val_accuracy: 0.6944\n",
      "Epoch 5/40\n",
      "64/64 [==============================] - 0s 7ms/step - loss: 1.5983 - accuracy: 0.5921 - val_loss: 1.2841 - val_accuracy: 0.7183\n",
      "Epoch 6/40\n",
      "64/64 [==============================] - 0s 8ms/step - loss: 1.3612 - accuracy: 0.6402 - val_loss: 1.1268 - val_accuracy: 0.7359\n",
      "Epoch 7/40\n",
      "64/64 [==============================] - 1s 8ms/step - loss: 1.2269 - accuracy: 0.6650 - val_loss: 1.0405 - val_accuracy: 0.7374\n",
      "Epoch 8/40\n",
      "64/64 [==============================] - 0s 8ms/step - loss: 1.1199 - accuracy: 0.6926 - val_loss: 0.9750 - val_accuracy: 0.7462\n",
      "Epoch 9/40\n",
      "64/64 [==============================] - 0s 8ms/step - loss: 1.0394 - accuracy: 0.7132 - val_loss: 0.9240 - val_accuracy: 0.7589\n",
      "Epoch 10/40\n",
      "64/64 [==============================] - 0s 8ms/step - loss: 0.9625 - accuracy: 0.7341 - val_loss: 0.8924 - val_accuracy: 0.7565\n",
      "Epoch 11/40\n",
      "64/64 [==============================] - 1s 8ms/step - loss: 0.9024 - accuracy: 0.7456 - val_loss: 0.8578 - val_accuracy: 0.7628\n",
      "Epoch 12/40\n",
      "64/64 [==============================] - 1s 8ms/step - loss: 0.8424 - accuracy: 0.7668 - val_loss: 0.8438 - val_accuracy: 0.7535\n",
      "Epoch 13/40\n",
      "64/64 [==============================] - 0s 8ms/step - loss: 0.8015 - accuracy: 0.7730 - val_loss: 0.8123 - val_accuracy: 0.7702\n",
      "Epoch 14/40\n",
      "64/64 [==============================] - 0s 7ms/step - loss: 0.7579 - accuracy: 0.7890 - val_loss: 0.8032 - val_accuracy: 0.7638\n",
      "Epoch 15/40\n",
      "64/64 [==============================] - 0s 8ms/step - loss: 0.7053 - accuracy: 0.7953 - val_loss: 0.7854 - val_accuracy: 0.7707\n",
      "Epoch 16/40\n",
      "64/64 [==============================] - 1s 8ms/step - loss: 0.6806 - accuracy: 0.8068 - val_loss: 0.7751 - val_accuracy: 0.7697\n",
      "Epoch 17/40\n",
      "64/64 [==============================] - 1s 8ms/step - loss: 0.6395 - accuracy: 0.8141 - val_loss: 0.7647 - val_accuracy: 0.7702\n",
      "Epoch 18/40\n",
      "64/64 [==============================] - 0s 8ms/step - loss: 0.6159 - accuracy: 0.8202 - val_loss: 0.7544 - val_accuracy: 0.7741\n",
      "Epoch 19/40\n",
      "64/64 [==============================] - 0s 7ms/step - loss: 0.5816 - accuracy: 0.8380 - val_loss: 0.7473 - val_accuracy: 0.7765\n",
      "Epoch 20/40\n",
      "64/64 [==============================] - 0s 8ms/step - loss: 0.5524 - accuracy: 0.8418 - val_loss: 0.7370 - val_accuracy: 0.7741\n",
      "Epoch 21/40\n",
      "64/64 [==============================] - 1s 8ms/step - loss: 0.5234 - accuracy: 0.8491 - val_loss: 0.7374 - val_accuracy: 0.7726\n",
      "Epoch 22/40\n",
      "64/64 [==============================] - 0s 7ms/step - loss: 0.5125 - accuracy: 0.8535 - val_loss: 0.7335 - val_accuracy: 0.7760\n",
      "Epoch 23/40\n",
      "64/64 [==============================] - 0s 7ms/step - loss: 0.4879 - accuracy: 0.8655 - val_loss: 0.7270 - val_accuracy: 0.7780\n",
      "Epoch 24/40\n",
      "64/64 [==============================] - 0s 7ms/step - loss: 0.4655 - accuracy: 0.8724 - val_loss: 0.7228 - val_accuracy: 0.7741\n",
      "Epoch 25/40\n",
      "64/64 [==============================] - 0s 8ms/step - loss: 0.4462 - accuracy: 0.8753 - val_loss: 0.7148 - val_accuracy: 0.7804\n",
      "Epoch 26/40\n",
      "64/64 [==============================] - 0s 8ms/step - loss: 0.4233 - accuracy: 0.8870 - val_loss: 0.7135 - val_accuracy: 0.7814\n",
      "Epoch 27/40\n",
      "64/64 [==============================] - 0s 7ms/step - loss: 0.4038 - accuracy: 0.8914 - val_loss: 0.7167 - val_accuracy: 0.7746\n",
      "Epoch 28/40\n",
      "64/64 [==============================] - 0s 7ms/step - loss: 0.3888 - accuracy: 0.8985 - val_loss: 0.7069 - val_accuracy: 0.7804\n",
      "Epoch 29/40\n",
      "64/64 [==============================] - 0s 7ms/step - loss: 0.3677 - accuracy: 0.9045 - val_loss: 0.7052 - val_accuracy: 0.7765\n",
      "Epoch 30/40\n",
      "64/64 [==============================] - 0s 8ms/step - loss: 0.3525 - accuracy: 0.9031 - val_loss: 0.7072 - val_accuracy: 0.7795\n",
      "Epoch 31/40\n",
      "64/64 [==============================] - 0s 8ms/step - loss: 0.3378 - accuracy: 0.9113 - val_loss: 0.7029 - val_accuracy: 0.7790\n",
      "Epoch 32/40\n",
      "64/64 [==============================] - 0s 8ms/step - loss: 0.3235 - accuracy: 0.9179 - val_loss: 0.6951 - val_accuracy: 0.7814\n",
      "Epoch 33/40\n",
      "64/64 [==============================] - 0s 7ms/step - loss: 0.3144 - accuracy: 0.9190 - val_loss: 0.6980 - val_accuracy: 0.7814\n",
      "Epoch 34/40\n",
      "64/64 [==============================] - 0s 7ms/step - loss: 0.2912 - accuracy: 0.9278 - val_loss: 0.7023 - val_accuracy: 0.7848\n",
      "Epoch 35/40\n",
      "64/64 [==============================] - 1s 8ms/step - loss: 0.2865 - accuracy: 0.9264 - val_loss: 0.6957 - val_accuracy: 0.7834\n",
      "Epoch 36/40\n",
      "64/64 [==============================] - 0s 7ms/step - loss: 0.2710 - accuracy: 0.9333 - val_loss: 0.6974 - val_accuracy: 0.7858\n",
      "Epoch 37/40\n",
      "64/64 [==============================] - 0s 7ms/step - loss: 0.2612 - accuracy: 0.9364 - val_loss: 0.6995 - val_accuracy: 0.7834\n",
      "Epoch 38/40\n",
      "64/64 [==============================] - 0s 7ms/step - loss: 0.2419 - accuracy: 0.9429 - val_loss: 0.6973 - val_accuracy: 0.7834\n",
      "Epoch 39/40\n",
      "64/64 [==============================] - 0s 7ms/step - loss: 0.2340 - accuracy: 0.9452 - val_loss: 0.6969 - val_accuracy: 0.7873\n",
      "Epoch 40/40\n",
      "64/64 [==============================] - 0s 8ms/step - loss: 0.2334 - accuracy: 0.9479 - val_loss: 0.6916 - val_accuracy: 0.7839\n"
     ]
    }
   ],
   "source": [
    "epochs = 40\n",
    "history = model.fit(\n",
    "    X_train,\n",
    "    y_train,\n",
    "    validation_data=(X_val, y_val),\n",
    "    epochs=epochs,\n",
    "    batch_size=128,\n",
    ")"
   ]
  },
  {
   "cell_type": "code",
   "execution_count": null,
   "metadata": {},
   "outputs": [],
   "source": []
  }
 ],
 "metadata": {
  "kernelspec": {
   "display_name": "base",
   "language": "python",
   "name": "python3"
  },
  "language_info": {
   "codemirror_mode": {
    "name": "ipython",
    "version": 3
   },
   "file_extension": ".py",
   "mimetype": "text/x-python",
   "name": "python",
   "nbconvert_exporter": "python",
   "pygments_lexer": "ipython3",
   "version": "3.9.13"
  }
 },
 "nbformat": 4,
 "nbformat_minor": 2
}
