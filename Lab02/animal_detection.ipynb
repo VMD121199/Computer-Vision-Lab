{
 "cells": [
  {
   "cell_type": "code",
   "execution_count": 1,
   "metadata": {},
   "outputs": [
    {
     "name": "stderr",
     "output_type": "stream",
     "text": [
      "c:\\Users\\ADMIN\\anaconda3\\lib\\site-packages\\scipy\\__init__.py:155: UserWarning: A NumPy version >=1.18.5 and <1.25.0 is required for this version of SciPy (detected version 1.26.2\n",
      "  warnings.warn(f\"A NumPy version >={np_minversion} and <{np_maxversion}\"\n"
     ]
    }
   ],
   "source": [
    "import os\n",
    "from random import shuffle\n",
    "import tensorflow as tf\n",
    "\n",
    "from tqdm import tqdm\n",
    "import pandas as pd\n",
    "import shutil\n",
    "\n",
    "from tensorflow.keras.layers import (\n",
    "    MaxPooling2D,\n",
    "    Dropout,\n",
    "    Flatten,\n",
    "    Dense,\n",
    "    Input,\n",
    "    Lambda,\n",
    ")\n",
    "from tensorflow.keras.preprocessing.image import (\n",
    "    load_img,\n",
    "    img_to_array,\n",
    "    array_to_img,\n",
    ")\n",
    "from sklearn.model_selection import train_test_split\n",
    "from keras.applications.mobilenet_v2 import MobileNetV2\n",
    "from tensorflow.keras.models import Model\n",
    "from tensorflow.keras.optimizers import Adam\n",
    "from sklearn.preprocessing import LabelBinarizer\n",
    "import numpy as np"
   ]
  },
  {
   "cell_type": "code",
   "execution_count": 2,
   "metadata": {},
   "outputs": [],
   "source": [
    "import warnings\n",
    "\n",
    "warnings.filterwarnings(\"ignore\")"
   ]
  },
  {
   "cell_type": "code",
   "execution_count": 3,
   "metadata": {},
   "outputs": [],
   "source": [
    "from ultralytics import YOLO"
   ]
  },
  {
   "cell_type": "markdown",
   "metadata": {},
   "source": [
    "<h1> Pre-processing data\n"
   ]
  },
  {
   "cell_type": "markdown",
   "metadata": {},
   "source": [
    "Chosen dataset: https://www.kaggle.com/datasets/biancaferreira/african-wildlife <br>\n",
    "With this dataset I have 4 classes: buffalo, elephant, rhino, zebra. <br>\n",
    "Each class have image + annotation. First step I need to divide the dataset into processed_data folder\n"
   ]
  },
  {
   "cell_type": "code",
   "execution_count": 4,
   "metadata": {},
   "outputs": [],
   "source": [
    "data_path = \"./data/\"\n",
    "processed_data_path = \"./processed_data\"\n",
    "os.makedirs(processed_data_path, exist_ok=True)"
   ]
  },
  {
   "cell_type": "code",
   "execution_count": 5,
   "metadata": {},
   "outputs": [],
   "source": [
    "labels_folder = os.listdir(data_path)"
   ]
  },
  {
   "cell_type": "code",
   "execution_count": 6,
   "metadata": {},
   "outputs": [],
   "source": [
    "df = pd.DataFrame(\n",
    "    columns=[\"class\", \"img_path\", \"x\", \"y\", \"w\", \"h\"]\n",
    ")"
   ]
  },
  {
   "cell_type": "code",
   "execution_count": 7,
   "metadata": {},
   "outputs": [],
   "source": [
    "images_destination_folder = f\"{processed_data_path}/images/\"\n",
    "labels_destination_folder = f\"{processed_data_path}/labels/\"\n",
    "os.makedirs(images_destination_folder, exist_ok=True)\n",
    "os.makedirs(labels_destination_folder, exist_ok=True)"
   ]
  },
  {
   "cell_type": "code",
   "execution_count": 8,
   "metadata": {},
   "outputs": [
    {
     "name": "stderr",
     "output_type": "stream",
     "text": [
      "376it [00:03, 105.38it/s]00<?, ?it/s]\n",
      "376it [00:03, 98.93it/s] 03<00:10,  3.58s/it]\n",
      "376it [00:02, 176.55it/s]07<00:07,  3.71s/it]\n",
      "376it [00:02, 133.01it/s]09<00:02,  2.99s/it]\n",
      "100%|██████████| 4/4 [00:12<00:00,  3.09s/it]\n"
     ]
    }
   ],
   "source": [
    "for label in tqdm(labels_folder):\n",
    "    org_path = f\"{data_path}/{label}\"\n",
    "    files = zip(os.listdir(org_path)[::2], os.listdir(org_path)[1::2])\n",
    "    for img, file in tqdm(files):\n",
    "        lb_file = f\"{org_path}/{file}\"\n",
    "        img_path = f\"{org_path}/{img}\"\n",
    "        numOfImage = len(os.listdir(images_destination_folder))\n",
    "        img_new_path = os.path.join(\n",
    "            images_destination_folder, f\"africa{numOfImage}.jpg\"\n",
    "        )\n",
    "        label_new_path = os.path.join(\n",
    "            labels_destination_folder, f\"africa{numOfImage}.txt\"\n",
    "        )\n",
    "        shutil.copy(\n",
    "            img_path,\n",
    "            img_new_path,\n",
    "        )\n",
    "        shutil.copy(\n",
    "            lb_file,\n",
    "            label_new_path,\n",
    "        )\n",
    "        lb_info = open(lb_file, \"r\").read().split()\n",
    "        objects = [[] for i in range(0, len(lb_info), 5)]\n",
    "        for idx, obj_info in enumerate(lb_info):\n",
    "            if idx % 5 == 0:\n",
    "                continue\n",
    "            else:\n",
    "                objects[idx // 5].append(obj_info)\n",
    "        for obj_list in objects:\n",
    "            if obj_list:\n",
    "                obj_details = obj_list\n",
    "\n",
    "                lb = label\n",
    "                x = float(obj_details[0])\n",
    "                y = float(obj_details[1])\n",
    "                w = float(obj_details[2])\n",
    "                h = float(obj_details[3])\n",
    "\n",
    "                row = {\n",
    "                    \"class\": lb,\n",
    "                    \"img_path\": img_new_path,\n",
    "                    \"x\": x,\n",
    "                    \"y\": y,\n",
    "                    \"w\": w,\n",
    "                    \"h\": h,\n",
    "                }\n",
    "\n",
    "                df = df.append(row, ignore_index=True)"
   ]
  },
  {
   "cell_type": "code",
   "execution_count": 9,
   "metadata": {},
   "outputs": [
    {
     "data": {
      "text/html": [
       "<div>\n",
       "<style scoped>\n",
       "    .dataframe tbody tr th:only-of-type {\n",
       "        vertical-align: middle;\n",
       "    }\n",
       "\n",
       "    .dataframe tbody tr th {\n",
       "        vertical-align: top;\n",
       "    }\n",
       "\n",
       "    .dataframe thead th {\n",
       "        text-align: right;\n",
       "    }\n",
       "</style>\n",
       "<table border=\"1\" class=\"dataframe\">\n",
       "  <thead>\n",
       "    <tr style=\"text-align: right;\">\n",
       "      <th></th>\n",
       "      <th>class</th>\n",
       "      <th>img_path</th>\n",
       "      <th>x</th>\n",
       "      <th>y</th>\n",
       "      <th>w</th>\n",
       "      <th>h</th>\n",
       "    </tr>\n",
       "  </thead>\n",
       "  <tbody>\n",
       "    <tr>\n",
       "      <th>0</th>\n",
       "      <td>buffalo</td>\n",
       "      <td>./processed_data/images/africa0.jpg</td>\n",
       "      <td>0.560000</td>\n",
       "      <td>0.663017</td>\n",
       "      <td>0.617500</td>\n",
       "      <td>0.644769</td>\n",
       "    </tr>\n",
       "    <tr>\n",
       "      <th>1</th>\n",
       "      <td>buffalo</td>\n",
       "      <td>./processed_data/images/africa1.jpg</td>\n",
       "      <td>0.473515</td>\n",
       "      <td>0.508434</td>\n",
       "      <td>0.497592</td>\n",
       "      <td>0.838554</td>\n",
       "    </tr>\n",
       "    <tr>\n",
       "      <th>2</th>\n",
       "      <td>buffalo</td>\n",
       "      <td>./processed_data/images/africa2.jpg</td>\n",
       "      <td>0.819167</td>\n",
       "      <td>0.593750</td>\n",
       "      <td>0.148333</td>\n",
       "      <td>0.242500</td>\n",
       "    </tr>\n",
       "    <tr>\n",
       "      <th>3</th>\n",
       "      <td>buffalo</td>\n",
       "      <td>./processed_data/images/africa2.jpg</td>\n",
       "      <td>0.747500</td>\n",
       "      <td>0.472500</td>\n",
       "      <td>0.221667</td>\n",
       "      <td>0.190000</td>\n",
       "    </tr>\n",
       "    <tr>\n",
       "      <th>4</th>\n",
       "      <td>buffalo</td>\n",
       "      <td>./processed_data/images/africa2.jpg</td>\n",
       "      <td>0.524167</td>\n",
       "      <td>0.543750</td>\n",
       "      <td>0.165000</td>\n",
       "      <td>0.232500</td>\n",
       "    </tr>\n",
       "    <tr>\n",
       "      <th>...</th>\n",
       "      <td>...</td>\n",
       "      <td>...</td>\n",
       "      <td>...</td>\n",
       "      <td>...</td>\n",
       "      <td>...</td>\n",
       "      <td>...</td>\n",
       "    </tr>\n",
       "    <tr>\n",
       "      <th>2680</th>\n",
       "      <td>zebra</td>\n",
       "      <td>./processed_data/images/africa1501.jpg</td>\n",
       "      <td>0.433594</td>\n",
       "      <td>0.518919</td>\n",
       "      <td>0.387500</td>\n",
       "      <td>0.656757</td>\n",
       "    </tr>\n",
       "    <tr>\n",
       "      <th>2681</th>\n",
       "      <td>zebra</td>\n",
       "      <td>./processed_data/images/africa1502.jpg</td>\n",
       "      <td>0.548828</td>\n",
       "      <td>0.492568</td>\n",
       "      <td>0.330469</td>\n",
       "      <td>0.974324</td>\n",
       "    </tr>\n",
       "    <tr>\n",
       "      <th>2682</th>\n",
       "      <td>zebra</td>\n",
       "      <td>./processed_data/images/africa1503.jpg</td>\n",
       "      <td>0.205859</td>\n",
       "      <td>0.592568</td>\n",
       "      <td>0.221094</td>\n",
       "      <td>0.520270</td>\n",
       "    </tr>\n",
       "    <tr>\n",
       "      <th>2683</th>\n",
       "      <td>zebra</td>\n",
       "      <td>./processed_data/images/africa1503.jpg</td>\n",
       "      <td>0.431641</td>\n",
       "      <td>0.597297</td>\n",
       "      <td>0.242969</td>\n",
       "      <td>0.562162</td>\n",
       "    </tr>\n",
       "    <tr>\n",
       "      <th>2684</th>\n",
       "      <td>zebra</td>\n",
       "      <td>./processed_data/images/africa1503.jpg</td>\n",
       "      <td>0.579687</td>\n",
       "      <td>0.604730</td>\n",
       "      <td>0.123438</td>\n",
       "      <td>0.495946</td>\n",
       "    </tr>\n",
       "  </tbody>\n",
       "</table>\n",
       "<p>2685 rows × 6 columns</p>\n",
       "</div>"
      ],
      "text/plain": [
       "        class                                img_path         x         y  \\\n",
       "0     buffalo     ./processed_data/images/africa0.jpg  0.560000  0.663017   \n",
       "1     buffalo     ./processed_data/images/africa1.jpg  0.473515  0.508434   \n",
       "2     buffalo     ./processed_data/images/africa2.jpg  0.819167  0.593750   \n",
       "3     buffalo     ./processed_data/images/africa2.jpg  0.747500  0.472500   \n",
       "4     buffalo     ./processed_data/images/africa2.jpg  0.524167  0.543750   \n",
       "...       ...                                     ...       ...       ...   \n",
       "2680    zebra  ./processed_data/images/africa1501.jpg  0.433594  0.518919   \n",
       "2681    zebra  ./processed_data/images/africa1502.jpg  0.548828  0.492568   \n",
       "2682    zebra  ./processed_data/images/africa1503.jpg  0.205859  0.592568   \n",
       "2683    zebra  ./processed_data/images/africa1503.jpg  0.431641  0.597297   \n",
       "2684    zebra  ./processed_data/images/africa1503.jpg  0.579687  0.604730   \n",
       "\n",
       "             w         h  \n",
       "0     0.617500  0.644769  \n",
       "1     0.497592  0.838554  \n",
       "2     0.148333  0.242500  \n",
       "3     0.221667  0.190000  \n",
       "4     0.165000  0.232500  \n",
       "...        ...       ...  \n",
       "2680  0.387500  0.656757  \n",
       "2681  0.330469  0.974324  \n",
       "2682  0.221094  0.520270  \n",
       "2683  0.242969  0.562162  \n",
       "2684  0.123438  0.495946  \n",
       "\n",
       "[2685 rows x 6 columns]"
      ]
     },
     "execution_count": 9,
     "metadata": {},
     "output_type": "execute_result"
    }
   ],
   "source": [
    "df"
   ]
  },
  {
   "cell_type": "code",
   "execution_count": 10,
   "metadata": {},
   "outputs": [],
   "source": [
    "train_dir = \"./processed_data/train/\"\n",
    "val_dir = \"./processed_data/val\"\n",
    "labels_path = \"./processed_data/labels/\""
   ]
  },
  {
   "cell_type": "code",
   "execution_count": 11,
   "metadata": {},
   "outputs": [],
   "source": [
    "os.makedirs(train_dir, exist_ok=True)\n",
    "os.makedirs(val_dir, exist_ok=True)\n",
    "os.makedirs(train_dir + \"/images\", exist_ok=True)\n",
    "os.makedirs(train_dir + \"/labels\", exist_ok=True)\n",
    "os.makedirs(val_dir + \"/images\", exist_ok=True)\n",
    "os.makedirs(val_dir + \"/labels\", exist_ok=True)"
   ]
  },
  {
   "cell_type": "code",
   "execution_count": 12,
   "metadata": {},
   "outputs": [],
   "source": [
    "files = os.listdir(images_destination_folder)\n",
    "shuffle(files)"
   ]
  },
  {
   "cell_type": "code",
   "execution_count": 13,
   "metadata": {},
   "outputs": [],
   "source": [
    "def split(files, ratio):\n",
    "    elements = len(files)\n",
    "    middle = int(elements * ratio)\n",
    "    return [files[:middle], files[middle:]]\n",
    "\n",
    "\n",
    "def copy_files(images_path, labels_path, destination_path, files):\n",
    "    for file_name in files:\n",
    "        file_name = file_name.split(\".\")[0]\n",
    "\n",
    "        src = images_path + f\"{file_name}.jpg\"\n",
    "        dst = destination_path + \"/images\"\n",
    "        shutil.copy(src, dst)\n",
    "\n",
    "        src = labels_path + f\"{file_name}.txt\"\n",
    "        dst = destination_path + \"/labels\"\n",
    "        shutil.copy(src, dst)"
   ]
  },
  {
   "cell_type": "code",
   "execution_count": 14,
   "metadata": {},
   "outputs": [],
   "source": [
    "train_ratio = 0.75\n",
    "train_files, val_files = split(files, train_ratio)\n",
    "\n",
    "copy_files(images_destination_folder, labels_path, train_dir, train_files)\n",
    "copy_files(images_destination_folder, labels_path, val_dir, val_files)"
   ]
  },
  {
   "cell_type": "code",
   "execution_count": 15,
   "metadata": {},
   "outputs": [],
   "source": [
    "class_training = {idx: label for idx, label in enumerate(labels_folder)}"
   ]
  },
  {
   "cell_type": "code",
   "execution_count": 16,
   "metadata": {},
   "outputs": [
    {
     "data": {
      "text/plain": [
       "{0: 'buffalo', 1: 'elephant', 2: 'rhino', 3: 'zebra'}"
      ]
     },
     "execution_count": 16,
     "metadata": {},
     "output_type": "execute_result"
    }
   ],
   "source": [
    "class_training"
   ]
  },
  {
   "cell_type": "code",
   "execution_count": 17,
   "metadata": {},
   "outputs": [],
   "source": [
    "with open(f\"./processed_data/africa_data.yaml\", \"w\") as f:\n",
    "    f.write(\"train: ./train/images\\n\")\n",
    "    f.write(\"val: ./val/images\\n\")\n",
    "    f.write(\"nc: 4\\n\")\n",
    "    f.write(f\"names: {class_training}\")"
   ]
  },
  {
   "cell_type": "markdown",
   "metadata": {},
   "source": [
    "YOLOv8 model\n"
   ]
  },
  {
   "cell_type": "code",
   "execution_count": 18,
   "metadata": {},
   "outputs": [],
   "source": [
    "model = YOLO(\"yolov8n.pt\")"
   ]
  },
  {
   "cell_type": "code",
   "execution_count": 19,
   "metadata": {},
   "outputs": [
    {
     "name": "stdout",
     "output_type": "stream",
     "text": [
      "New https://pypi.org/project/ultralytics/8.1.1 available 😃 Update with 'pip install -U ultralytics'\n",
      "Ultralytics YOLOv8.0.233 🚀 Python-3.9.13 torch-2.1.0+cpu CPU (AMD Ryzen 7 6800H with Radeon Graphics)\n",
      "\u001b[34m\u001b[1mengine\\trainer: \u001b[0mtask=detect, mode=train, model=yolov8n.pt, data=./processed_data/africa_data.yaml, epochs=10, time=None, patience=50, batch=16, imgsz=320, save=True, save_period=-1, cache=False, device=None, workers=8, project=None, name=train4, exist_ok=False, pretrained=True, optimizer=auto, verbose=True, seed=0, deterministic=True, single_cls=False, rect=False, cos_lr=False, close_mosaic=10, resume=False, amp=True, fraction=1.0, profile=False, freeze=None, overlap_mask=True, mask_ratio=4, dropout=0.0, val=True, split=val, save_json=False, save_hybrid=False, conf=None, iou=0.7, max_det=300, half=False, dnn=False, plots=True, source=None, vid_stride=1, stream_buffer=False, visualize=False, augment=False, agnostic_nms=False, classes=None, retina_masks=False, embed=None, show=False, save_frames=False, save_txt=False, save_conf=False, save_crop=False, show_labels=True, show_conf=True, show_boxes=True, line_width=None, format=torchscript, keras=False, optimize=False, int8=False, dynamic=False, simplify=False, opset=None, workspace=4, nms=False, lr0=0.01, lrf=0.01, momentum=0.937, weight_decay=0.0005, warmup_epochs=3.0, warmup_momentum=0.8, warmup_bias_lr=0.1, box=7.5, cls=0.5, dfl=1.5, pose=12.0, kobj=1.0, label_smoothing=0.0, nbs=64, hsv_h=0.015, hsv_s=0.7, hsv_v=0.4, degrees=0.0, translate=0.1, scale=0.5, shear=0.0, perspective=0.0, flipud=0.0, fliplr=0.5, mosaic=1.0, mixup=0.0, copy_paste=0.0, auto_augment=randaugment, erasing=0.4, crop_fraction=1.0, cfg=None, tracker=botsort.yaml, save_dir=runs\\detect\\train4\n",
      "Overriding model.yaml nc=80 with nc=4\n",
      "\n",
      "                   from  n    params  module                                       arguments                     \n",
      "  0                  -1  1       464  ultralytics.nn.modules.conv.Conv             [3, 16, 3, 2]                 \n",
      "  1                  -1  1      4672  ultralytics.nn.modules.conv.Conv             [16, 32, 3, 2]                \n",
      "  2                  -1  1      7360  ultralytics.nn.modules.block.C2f             [32, 32, 1, True]             \n",
      "  3                  -1  1     18560  ultralytics.nn.modules.conv.Conv             [32, 64, 3, 2]                \n",
      "  4                  -1  2     49664  ultralytics.nn.modules.block.C2f             [64, 64, 2, True]             \n",
      "  5                  -1  1     73984  ultralytics.nn.modules.conv.Conv             [64, 128, 3, 2]               \n",
      "  6                  -1  2    197632  ultralytics.nn.modules.block.C2f             [128, 128, 2, True]           \n",
      "  7                  -1  1    295424  ultralytics.nn.modules.conv.Conv             [128, 256, 3, 2]              \n",
      "  8                  -1  1    460288  ultralytics.nn.modules.block.C2f             [256, 256, 1, True]           \n",
      "  9                  -1  1    164608  ultralytics.nn.modules.block.SPPF            [256, 256, 5]                 \n",
      " 10                  -1  1         0  torch.nn.modules.upsampling.Upsample         [None, 2, 'nearest']          \n",
      " 11             [-1, 6]  1         0  ultralytics.nn.modules.conv.Concat           [1]                           \n",
      " 12                  -1  1    148224  ultralytics.nn.modules.block.C2f             [384, 128, 1]                 \n",
      " 13                  -1  1         0  torch.nn.modules.upsampling.Upsample         [None, 2, 'nearest']          \n",
      " 14             [-1, 4]  1         0  ultralytics.nn.modules.conv.Concat           [1]                           \n",
      " 15                  -1  1     37248  ultralytics.nn.modules.block.C2f             [192, 64, 1]                  \n",
      " 16                  -1  1     36992  ultralytics.nn.modules.conv.Conv             [64, 64, 3, 2]                \n",
      " 17            [-1, 12]  1         0  ultralytics.nn.modules.conv.Concat           [1]                           \n",
      " 18                  -1  1    123648  ultralytics.nn.modules.block.C2f             [192, 128, 1]                 \n",
      " 19                  -1  1    147712  ultralytics.nn.modules.conv.Conv             [128, 128, 3, 2]              \n",
      " 20             [-1, 9]  1         0  ultralytics.nn.modules.conv.Concat           [1]                           \n",
      " 21                  -1  1    493056  ultralytics.nn.modules.block.C2f             [384, 256, 1]                 \n",
      " 22        [15, 18, 21]  1    752092  ultralytics.nn.modules.head.Detect           [4, [64, 128, 256]]           \n",
      "Model summary: 225 layers, 3011628 parameters, 3011612 gradients, 8.2 GFLOPs\n",
      "\n",
      "Transferred 319/355 items from pretrained weights\n",
      "\u001b[34m\u001b[1mTensorBoard: \u001b[0mStart with 'tensorboard --logdir runs\\detect\\train4', view at http://localhost:6006/\n",
      "Freezing layer 'model.22.dfl.conv.weight'\n"
     ]
    },
    {
     "name": "stderr",
     "output_type": "stream",
     "text": [
      "\u001b[34m\u001b[1mtrain: \u001b[0mScanning C:\\Users\\ADMIN\\OneDrive - EPITA\\Computer-Vision-DSA-23\\Lab02\\processed_data\\train\\labels... 1128 images, 0 backgrounds, 0 corrupt: 100%|██████████| 1128/1128 [00:01<00:00, 908.76it/s]"
     ]
    },
    {
     "name": "stdout",
     "output_type": "stream",
     "text": [
      "\u001b[34m\u001b[1mtrain: \u001b[0mWARNING ⚠️ C:\\Users\\ADMIN\\OneDrive - EPITA\\Computer-Vision-DSA-23\\Lab02\\processed_data\\train\\images\\africa1438.jpg: corrupt JPEG restored and saved\n",
      "\u001b[34m\u001b[1mtrain: \u001b[0mWARNING ⚠️ C:\\Users\\ADMIN\\OneDrive - EPITA\\Computer-Vision-DSA-23\\Lab02\\processed_data\\train\\images\\africa53.jpg: corrupt JPEG restored and saved\n",
      "\u001b[34m\u001b[1mtrain: \u001b[0mWARNING ⚠️ C:\\Users\\ADMIN\\OneDrive - EPITA\\Computer-Vision-DSA-23\\Lab02\\processed_data\\train\\images\\africa784.jpg: corrupt JPEG restored and saved\n",
      "\u001b[34m\u001b[1mtrain: \u001b[0mWARNING ⚠️ C:\\Users\\ADMIN\\OneDrive - EPITA\\Computer-Vision-DSA-23\\Lab02\\processed_data\\train\\images\\africa788.jpg: corrupt JPEG restored and saved\n"
     ]
    },
    {
     "name": "stderr",
     "output_type": "stream",
     "text": [
      "\n"
     ]
    },
    {
     "name": "stdout",
     "output_type": "stream",
     "text": [
      "\u001b[34m\u001b[1mtrain: \u001b[0mNew cache created: C:\\Users\\ADMIN\\OneDrive - EPITA\\Computer-Vision-DSA-23\\Lab02\\processed_data\\train\\labels.cache\n"
     ]
    },
    {
     "name": "stderr",
     "output_type": "stream",
     "text": [
      "\u001b[34m\u001b[1mval: \u001b[0mScanning C:\\Users\\ADMIN\\OneDrive - EPITA\\Computer-Vision-DSA-23\\Lab02\\processed_data\\val\\labels... 376 images, 0 backgrounds, 0 corrupt: 100%|██████████| 376/376 [00:00<00:00, 884.43it/s]"
     ]
    },
    {
     "name": "stdout",
     "output_type": "stream",
     "text": [
      "\u001b[34m\u001b[1mval: \u001b[0mNew cache created: C:\\Users\\ADMIN\\OneDrive - EPITA\\Computer-Vision-DSA-23\\Lab02\\processed_data\\val\\labels.cache\n"
     ]
    },
    {
     "name": "stderr",
     "output_type": "stream",
     "text": [
      "\n"
     ]
    },
    {
     "name": "stdout",
     "output_type": "stream",
     "text": [
      "Plotting labels to runs\\detect\\train4\\labels.jpg... \n",
      "\u001b[34m\u001b[1moptimizer:\u001b[0m 'optimizer=auto' found, ignoring 'lr0=0.01' and 'momentum=0.937' and determining best 'optimizer', 'lr0' and 'momentum' automatically... \n",
      "\u001b[34m\u001b[1moptimizer:\u001b[0m AdamW(lr=0.00125, momentum=0.9) with parameter groups 57 weight(decay=0.0), 64 weight(decay=0.0005), 63 bias(decay=0.0)\n",
      "10 epochs...\n",
      "Closing dataloader mosaic\n",
      "\n",
      "      Epoch    GPU_mem   box_loss   cls_loss   dfl_loss  Instances       Size\n"
     ]
    },
    {
     "name": "stderr",
     "output_type": "stream",
     "text": [
      "       1/10         0G     0.8289      2.178      1.029         11        320: 100%|██████████| 71/71 [01:00<00:00,  1.17it/s]\n",
      "                 Class     Images  Instances      Box(P          R      mAP50  mAP50-95): 100%|██████████| 12/12 [00:09<00:00,  1.29it/s]"
     ]
    },
    {
     "name": "stdout",
     "output_type": "stream",
     "text": [
      "                   all        376        681      0.625      0.582      0.634       0.46\n"
     ]
    },
    {
     "name": "stderr",
     "output_type": "stream",
     "text": [
      "\n"
     ]
    },
    {
     "name": "stdout",
     "output_type": "stream",
     "text": [
      "\n",
      "      Epoch    GPU_mem   box_loss   cls_loss   dfl_loss  Instances       Size\n"
     ]
    },
    {
     "name": "stderr",
     "output_type": "stream",
     "text": [
      "       2/10         0G     0.9204      1.435      1.083         15        320: 100%|██████████| 71/71 [00:59<00:00,  1.19it/s]\n",
      "                 Class     Images  Instances      Box(P          R      mAP50  mAP50-95): 100%|██████████| 12/12 [00:09<00:00,  1.24it/s]"
     ]
    },
    {
     "name": "stdout",
     "output_type": "stream",
     "text": [
      "                   all        376        681      0.761      0.692      0.782      0.557\n"
     ]
    },
    {
     "name": "stderr",
     "output_type": "stream",
     "text": [
      "\n"
     ]
    },
    {
     "name": "stdout",
     "output_type": "stream",
     "text": [
      "\n",
      "      Epoch    GPU_mem   box_loss   cls_loss   dfl_loss  Instances       Size\n"
     ]
    },
    {
     "name": "stderr",
     "output_type": "stream",
     "text": [
      "       3/10         0G     0.9371      1.333      1.086         18        320: 100%|██████████| 71/71 [01:04<00:00,  1.10it/s]\n",
      "                 Class     Images  Instances      Box(P          R      mAP50  mAP50-95): 100%|██████████| 12/12 [00:10<00:00,  1.13it/s]"
     ]
    },
    {
     "name": "stdout",
     "output_type": "stream",
     "text": [
      "                   all        376        681      0.854      0.743      0.838      0.579\n"
     ]
    },
    {
     "name": "stderr",
     "output_type": "stream",
     "text": [
      "\n"
     ]
    },
    {
     "name": "stdout",
     "output_type": "stream",
     "text": [
      "\n",
      "      Epoch    GPU_mem   box_loss   cls_loss   dfl_loss  Instances       Size\n"
     ]
    },
    {
     "name": "stderr",
     "output_type": "stream",
     "text": [
      "       4/10         0G     0.9374      1.247      1.093         21        320: 100%|██████████| 71/71 [01:02<00:00,  1.14it/s]\n",
      "                 Class     Images  Instances      Box(P          R      mAP50  mAP50-95): 100%|██████████| 12/12 [00:09<00:00,  1.23it/s]"
     ]
    },
    {
     "name": "stdout",
     "output_type": "stream",
     "text": [
      "                   all        376        681      0.831      0.756      0.842      0.585\n"
     ]
    },
    {
     "name": "stderr",
     "output_type": "stream",
     "text": [
      "\n"
     ]
    },
    {
     "name": "stdout",
     "output_type": "stream",
     "text": [
      "\n",
      "      Epoch    GPU_mem   box_loss   cls_loss   dfl_loss  Instances       Size\n"
     ]
    },
    {
     "name": "stderr",
     "output_type": "stream",
     "text": [
      "       5/10         0G     0.9179      1.169      1.069          9        320: 100%|██████████| 71/71 [01:04<00:00,  1.10it/s]\n",
      "                 Class     Images  Instances      Box(P          R      mAP50  mAP50-95): 100%|██████████| 12/12 [00:10<00:00,  1.16it/s]"
     ]
    },
    {
     "name": "stdout",
     "output_type": "stream",
     "text": [
      "                   all        376        681      0.838      0.729      0.828      0.599\n"
     ]
    },
    {
     "name": "stderr",
     "output_type": "stream",
     "text": [
      "\n"
     ]
    },
    {
     "name": "stdout",
     "output_type": "stream",
     "text": [
      "\n",
      "      Epoch    GPU_mem   box_loss   cls_loss   dfl_loss  Instances       Size\n"
     ]
    },
    {
     "name": "stderr",
     "output_type": "stream",
     "text": [
      "       6/10         0G     0.8761      1.067       1.06         20        320: 100%|██████████| 71/71 [01:04<00:00,  1.11it/s]\n",
      "                 Class     Images  Instances      Box(P          R      mAP50  mAP50-95): 100%|██████████| 12/12 [00:10<00:00,  1.19it/s]"
     ]
    },
    {
     "name": "stdout",
     "output_type": "stream",
     "text": [
      "                   all        376        681      0.854      0.793       0.88      0.649\n"
     ]
    },
    {
     "name": "stderr",
     "output_type": "stream",
     "text": [
      "\n"
     ]
    },
    {
     "name": "stdout",
     "output_type": "stream",
     "text": [
      "\n",
      "      Epoch    GPU_mem   box_loss   cls_loss   dfl_loss  Instances       Size\n"
     ]
    },
    {
     "name": "stderr",
     "output_type": "stream",
     "text": [
      "       7/10         0G      0.838     0.9878      1.033         14        320: 100%|██████████| 71/71 [01:05<00:00,  1.08it/s]\n",
      "                 Class     Images  Instances      Box(P          R      mAP50  mAP50-95): 100%|██████████| 12/12 [00:10<00:00,  1.19it/s]"
     ]
    },
    {
     "name": "stdout",
     "output_type": "stream",
     "text": [
      "                   all        376        681      0.867      0.857      0.918      0.699\n"
     ]
    },
    {
     "name": "stderr",
     "output_type": "stream",
     "text": [
      "\n"
     ]
    },
    {
     "name": "stdout",
     "output_type": "stream",
     "text": [
      "\n",
      "      Epoch    GPU_mem   box_loss   cls_loss   dfl_loss  Instances       Size\n"
     ]
    },
    {
     "name": "stderr",
     "output_type": "stream",
     "text": [
      "       8/10         0G     0.7669     0.8753      1.003         11        320: 100%|██████████| 71/71 [01:04<00:00,  1.11it/s]\n",
      "                 Class     Images  Instances      Box(P          R      mAP50  mAP50-95): 100%|██████████| 12/12 [00:09<00:00,  1.20it/s]"
     ]
    },
    {
     "name": "stdout",
     "output_type": "stream",
     "text": [
      "                   all        376        681      0.906      0.856       0.93      0.696\n"
     ]
    },
    {
     "name": "stderr",
     "output_type": "stream",
     "text": [
      "\n"
     ]
    },
    {
     "name": "stdout",
     "output_type": "stream",
     "text": [
      "\n",
      "      Epoch    GPU_mem   box_loss   cls_loss   dfl_loss  Instances       Size\n"
     ]
    },
    {
     "name": "stderr",
     "output_type": "stream",
     "text": [
      "       9/10         0G     0.7358     0.8006     0.9853         19        320: 100%|██████████| 71/71 [01:04<00:00,  1.10it/s]\n",
      "                 Class     Images  Instances      Box(P          R      mAP50  mAP50-95): 100%|██████████| 12/12 [00:10<00:00,  1.19it/s]"
     ]
    },
    {
     "name": "stdout",
     "output_type": "stream",
     "text": [
      "                   all        376        681      0.906      0.862      0.928      0.701\n"
     ]
    },
    {
     "name": "stderr",
     "output_type": "stream",
     "text": [
      "\n"
     ]
    },
    {
     "name": "stdout",
     "output_type": "stream",
     "text": [
      "\n",
      "      Epoch    GPU_mem   box_loss   cls_loss   dfl_loss  Instances       Size\n"
     ]
    },
    {
     "name": "stderr",
     "output_type": "stream",
     "text": [
      "      10/10         0G     0.7013     0.7383     0.9711         23        320: 100%|██████████| 71/71 [01:07<00:00,  1.05it/s]\n",
      "                 Class     Images  Instances      Box(P          R      mAP50  mAP50-95): 100%|██████████| 12/12 [00:10<00:00,  1.19it/s]"
     ]
    },
    {
     "name": "stdout",
     "output_type": "stream",
     "text": [
      "                   all        376        681      0.922      0.869      0.928      0.735\n"
     ]
    },
    {
     "name": "stderr",
     "output_type": "stream",
     "text": [
      "\n"
     ]
    },
    {
     "name": "stdout",
     "output_type": "stream",
     "text": [
      "\n",
      "10 epochs completed in 0.207 hours.\n",
      "Optimizer stripped from runs\\detect\\train4\\weights\\last.pt, 6.2MB\n",
      "Optimizer stripped from runs\\detect\\train4\\weights\\best.pt, 6.2MB\n",
      "\n",
      "Validating runs\\detect\\train4\\weights\\best.pt...\n",
      "Ultralytics YOLOv8.0.233 🚀 Python-3.9.13 torch-2.1.0+cpu CPU (AMD Ryzen 7 6800H with Radeon Graphics)\n",
      "Model summary (fused): 168 layers, 3006428 parameters, 0 gradients, 8.1 GFLOPs\n"
     ]
    },
    {
     "name": "stderr",
     "output_type": "stream",
     "text": [
      "                 Class     Images  Instances      Box(P          R      mAP50  mAP50-95): 100%|██████████| 12/12 [00:09<00:00,  1.24it/s]\n"
     ]
    },
    {
     "name": "stdout",
     "output_type": "stream",
     "text": [
      "                   all        376        681      0.923      0.869      0.928      0.735\n",
      "               buffalo        376        121      0.982       0.95      0.987      0.828\n",
      "              elephant        376        211      0.863      0.763      0.865      0.605\n",
      "                 rhino        376        132      0.976       0.92      0.972      0.828\n",
      "                 zebra        376        217      0.872      0.843      0.889       0.68\n",
      "Speed: 0.2ms preprocess, 12.9ms inference, 0.0ms loss, 0.5ms postprocess per image\n",
      "Results saved to \u001b[1mruns\\detect\\train4\u001b[0m\n",
      "Ultralytics YOLOv8.0.233 🚀 Python-3.9.13 torch-2.1.0+cpu CPU (AMD Ryzen 7 6800H with Radeon Graphics)\n",
      "Model summary (fused): 168 layers, 3006428 parameters, 0 gradients, 8.1 GFLOPs\n"
     ]
    },
    {
     "name": "stderr",
     "output_type": "stream",
     "text": [
      "\u001b[34m\u001b[1mval: \u001b[0mScanning C:\\Users\\ADMIN\\OneDrive - EPITA\\Computer-Vision-DSA-23\\Lab02\\processed_data\\val\\labels.cache... 376 images, 0 backgrounds, 0 corrupt: 100%|██████████| 376/376 [00:00<?, ?it/s]\n",
      "                 Class     Images  Instances      Box(P          R      mAP50  mAP50-95): 100%|██████████| 24/24 [00:09<00:00,  2.64it/s]\n"
     ]
    },
    {
     "name": "stdout",
     "output_type": "stream",
     "text": [
      "                   all        376        681      0.922      0.871      0.929      0.735\n",
      "               buffalo        376        121      0.982       0.95      0.987      0.829\n",
      "              elephant        376        211      0.862      0.763      0.866      0.606\n",
      "                 rhino        376        132      0.968      0.927      0.972      0.824\n",
      "                 zebra        376        217      0.874      0.843      0.893      0.682\n",
      "Speed: 0.2ms preprocess, 11.5ms inference, 0.0ms loss, 0.5ms postprocess per image\n",
      "Results saved to \u001b[1mruns\\detect\\train42\u001b[0m\n"
     ]
    }
   ],
   "source": [
    "results = model.train(\n",
    "    data=\"./processed_data/africa_data.yaml\", epochs=10, imgsz=320\n",
    ")  # train the model\n",
    "results = model.val()  # evaluate model performance on the validation set"
   ]
  },
  {
   "cell_type": "markdown",
   "metadata": {},
   "source": [
    "SSD Transfer Learning model\n"
   ]
  },
  {
   "cell_type": "code",
   "execution_count": 20,
   "metadata": {},
   "outputs": [],
   "source": [
    "classes = df[\"class\"].unique().tolist()"
   ]
  },
  {
   "cell_type": "code",
   "execution_count": 21,
   "metadata": {},
   "outputs": [],
   "source": [
    "label_encoder = LabelBinarizer()"
   ]
  },
  {
   "cell_type": "code",
   "execution_count": 22,
   "metadata": {},
   "outputs": [
    {
     "name": "stderr",
     "output_type": "stream",
     "text": [
      "2685it [00:44, 60.35it/s] \n"
     ]
    }
   ],
   "source": [
    "images = []\n",
    "labels = []\n",
    "bboxes = []\n",
    "for index, row in tqdm(df.iterrows()):\n",
    "    img_path = row[\"img_path\"]\n",
    "    original_img = load_img(img_path)\n",
    "    original_array = img_to_array(original_img)\n",
    "    resized_array = np.array(array_to_img(original_array).resize((320, 320)))\n",
    "    original_size = original_img.size\n",
    "    resized_size = (320, 320)\n",
    "    x_scale = resized_size[0] / original_size[0]\n",
    "    y_scale = resized_size[1] / original_size[1]\n",
    "    images.append(resized_array)\n",
    "\n",
    "    x = row[\"x\"]\n",
    "    y = row[\"y\"]\n",
    "    w = row[\"w\"]\n",
    "    h = row[\"h\"]\n",
    "    x_min = (x - w / 2) * x_scale\n",
    "    y_min = (y - h / 2) * y_scale\n",
    "    x_max = (x + w / 2) * x_scale\n",
    "    y_max = (y + h / 2) * y_scale\n",
    "    bboxes.append((x_min, y_min, x_max, y_max))\n",
    "    labels.append(row[\"class\"])"
   ]
  },
  {
   "cell_type": "code",
   "execution_count": 23,
   "metadata": {},
   "outputs": [],
   "source": [
    "images = np.array(images, dtype=\"float32\") / 255.0\n",
    "labels = np.array(labels)\n",
    "bboxes = np.array(bboxes, dtype=\"float32\")\n",
    "labels = label_encoder.fit_transform(labels)"
   ]
  },
  {
   "cell_type": "code",
   "execution_count": 24,
   "metadata": {},
   "outputs": [
    {
     "name": "stdout",
     "output_type": "stream",
     "text": [
      "[[     0.1005     0.26521      0.3475     0.76722]\n",
      " [    0.11543    0.068748     0.37101     0.71534]\n",
      " [    0.39733       0.378     0.47644       0.572]\n",
      " ...\n",
      " [     0.0305     0.18216     0.10125     0.46723]\n",
      " [    0.09925     0.17327       0.177      0.4813]\n",
      " [    0.16575     0.19548     0.20525     0.46723]]\n"
     ]
    }
   ],
   "source": [
    "print(bboxes)"
   ]
  },
  {
   "cell_type": "code",
   "execution_count": 25,
   "metadata": {},
   "outputs": [],
   "source": [
    "(\n",
    "    train_images,\n",
    "    val_images,\n",
    "    train_bboxes,\n",
    "    val_bboxes,\n",
    "    train_labels,\n",
    "    val_labels,\n",
    ") = train_test_split(images, bboxes, labels, test_size=0.20, random_state=12)"
   ]
  },
  {
   "cell_type": "code",
   "execution_count": 26,
   "metadata": {},
   "outputs": [],
   "source": [
    "losses = {\n",
    "    \"class_label\": \"categorical_crossentropy\",\n",
    "    \"bounding_box\": \"mean_squared_error\",\n",
    "}\n",
    "\n",
    "train_targets = {\n",
    "    \"class_label\": train_labels,\n",
    "    \"bounding_box\": train_bboxes,\n",
    "}\n",
    "\n",
    "val_targets = {\n",
    "    \"class_label\": val_labels,\n",
    "    \"bounding_box\": val_bboxes,\n",
    "}"
   ]
  },
  {
   "cell_type": "code",
   "execution_count": 27,
   "metadata": {},
   "outputs": [],
   "source": [
    "base_learning_rate = 0.0015\n",
    "\n",
    "opt = Adam(base_learning_rate)"
   ]
  },
  {
   "cell_type": "code",
   "execution_count": 28,
   "metadata": {},
   "outputs": [
    {
     "name": "stdout",
     "output_type": "stream",
     "text": [
      "WARNING:tensorflow:`input_shape` is undefined or non-square, or `rows` is not in [96, 128, 160, 192, 224]. Weights for input shape (224, 224) will be loaded as the default.\n"
     ]
    },
    {
     "name": "stdout",
     "output_type": "stream",
     "text": [
      "Model: \"model\"\n",
      "__________________________________________________________________________________________________\n",
      " Layer (type)                   Output Shape         Param #     Connected to                     \n",
      "==================================================================================================\n",
      " input_images (InputLayer)      [(None, 320, 320, 3  0           []                               \n",
      "                                )]                                                                \n",
      "                                                                                                  \n",
      " Conv1 (Conv2D)                 (None, 160, 160, 32  864         ['input_images[0][0]']           \n",
      "                                )                                                                 \n",
      "                                                                                                  \n",
      " bn_Conv1 (BatchNormalization)  (None, 160, 160, 32  128         ['Conv1[0][0]']                  \n",
      "                                )                                                                 \n",
      "                                                                                                  \n",
      " Conv1_relu (ReLU)              (None, 160, 160, 32  0           ['bn_Conv1[0][0]']               \n",
      "                                )                                                                 \n",
      "                                                                                                  \n",
      " expanded_conv_depthwise (Depth  (None, 160, 160, 32  288        ['Conv1_relu[0][0]']             \n",
      " wiseConv2D)                    )                                                                 \n",
      "                                                                                                  \n",
      " expanded_conv_depthwise_BN (Ba  (None, 160, 160, 32  128        ['expanded_conv_depthwise[0][0]']\n",
      " tchNormalization)              )                                                                 \n",
      "                                                                                                  \n",
      " expanded_conv_depthwise_relu (  (None, 160, 160, 32  0          ['expanded_conv_depthwise_BN[0][0\n",
      " ReLU)                          )                                ]']                              \n",
      "                                                                                                  \n",
      " expanded_conv_project (Conv2D)  (None, 160, 160, 16  512        ['expanded_conv_depthwise_relu[0]\n",
      "                                )                                [0]']                            \n",
      "                                                                                                  \n",
      " expanded_conv_project_BN (Batc  (None, 160, 160, 16  64         ['expanded_conv_project[0][0]']  \n",
      " hNormalization)                )                                                                 \n",
      "                                                                                                  \n",
      " block_1_expand (Conv2D)        (None, 160, 160, 96  1536        ['expanded_conv_project_BN[0][0]'\n",
      "                                )                                ]                                \n",
      "                                                                                                  \n",
      " block_1_expand_BN (BatchNormal  (None, 160, 160, 96  384        ['block_1_expand[0][0]']         \n",
      " ization)                       )                                                                 \n",
      "                                                                                                  \n",
      " block_1_expand_relu (ReLU)     (None, 160, 160, 96  0           ['block_1_expand_BN[0][0]']      \n",
      "                                )                                                                 \n",
      "                                                                                                  \n",
      " block_1_pad (ZeroPadding2D)    (None, 161, 161, 96  0           ['block_1_expand_relu[0][0]']    \n",
      "                                )                                                                 \n",
      "                                                                                                  \n",
      " block_1_depthwise (DepthwiseCo  (None, 80, 80, 96)  864         ['block_1_pad[0][0]']            \n",
      " nv2D)                                                                                            \n",
      "                                                                                                  \n",
      " block_1_depthwise_BN (BatchNor  (None, 80, 80, 96)  384         ['block_1_depthwise[0][0]']      \n",
      " malization)                                                                                      \n",
      "                                                                                                  \n",
      " block_1_depthwise_relu (ReLU)  (None, 80, 80, 96)   0           ['block_1_depthwise_BN[0][0]']   \n",
      "                                                                                                  \n",
      " block_1_project (Conv2D)       (None, 80, 80, 24)   2304        ['block_1_depthwise_relu[0][0]'] \n",
      "                                                                                                  \n",
      " block_1_project_BN (BatchNorma  (None, 80, 80, 24)  96          ['block_1_project[0][0]']        \n",
      " lization)                                                                                        \n",
      "                                                                                                  \n",
      " block_2_expand (Conv2D)        (None, 80, 80, 144)  3456        ['block_1_project_BN[0][0]']     \n",
      "                                                                                                  \n",
      " block_2_expand_BN (BatchNormal  (None, 80, 80, 144)  576        ['block_2_expand[0][0]']         \n",
      " ization)                                                                                         \n",
      "                                                                                                  \n",
      " block_2_expand_relu (ReLU)     (None, 80, 80, 144)  0           ['block_2_expand_BN[0][0]']      \n",
      "                                                                                                  \n",
      " block_2_depthwise (DepthwiseCo  (None, 80, 80, 144)  1296       ['block_2_expand_relu[0][0]']    \n",
      " nv2D)                                                                                            \n",
      "                                                                                                  \n",
      " block_2_depthwise_BN (BatchNor  (None, 80, 80, 144)  576        ['block_2_depthwise[0][0]']      \n",
      " malization)                                                                                      \n",
      "                                                                                                  \n",
      " block_2_depthwise_relu (ReLU)  (None, 80, 80, 144)  0           ['block_2_depthwise_BN[0][0]']   \n",
      "                                                                                                  \n",
      " block_2_project (Conv2D)       (None, 80, 80, 24)   3456        ['block_2_depthwise_relu[0][0]'] \n",
      "                                                                                                  \n",
      " block_2_project_BN (BatchNorma  (None, 80, 80, 24)  96          ['block_2_project[0][0]']        \n",
      " lization)                                                                                        \n",
      "                                                                                                  \n",
      " block_2_add (Add)              (None, 80, 80, 24)   0           ['block_1_project_BN[0][0]',     \n",
      "                                                                  'block_2_project_BN[0][0]']     \n",
      "                                                                                                  \n",
      " block_3_expand (Conv2D)        (None, 80, 80, 144)  3456        ['block_2_add[0][0]']            \n",
      "                                                                                                  \n",
      " block_3_expand_BN (BatchNormal  (None, 80, 80, 144)  576        ['block_3_expand[0][0]']         \n",
      " ization)                                                                                         \n",
      "                                                                                                  \n",
      " block_3_expand_relu (ReLU)     (None, 80, 80, 144)  0           ['block_3_expand_BN[0][0]']      \n",
      "                                                                                                  \n",
      " block_3_pad (ZeroPadding2D)    (None, 81, 81, 144)  0           ['block_3_expand_relu[0][0]']    \n",
      "                                                                                                  \n",
      " block_3_depthwise (DepthwiseCo  (None, 40, 40, 144)  1296       ['block_3_pad[0][0]']            \n",
      " nv2D)                                                                                            \n",
      "                                                                                                  \n",
      " block_3_depthwise_BN (BatchNor  (None, 40, 40, 144)  576        ['block_3_depthwise[0][0]']      \n",
      " malization)                                                                                      \n",
      "                                                                                                  \n",
      " block_3_depthwise_relu (ReLU)  (None, 40, 40, 144)  0           ['block_3_depthwise_BN[0][0]']   \n",
      "                                                                                                  \n",
      " block_3_project (Conv2D)       (None, 40, 40, 32)   4608        ['block_3_depthwise_relu[0][0]'] \n",
      "                                                                                                  \n",
      " block_3_project_BN (BatchNorma  (None, 40, 40, 32)  128         ['block_3_project[0][0]']        \n",
      " lization)                                                                                        \n",
      "                                                                                                  \n",
      " block_4_expand (Conv2D)        (None, 40, 40, 192)  6144        ['block_3_project_BN[0][0]']     \n",
      "                                                                                                  \n",
      " block_4_expand_BN (BatchNormal  (None, 40, 40, 192)  768        ['block_4_expand[0][0]']         \n",
      " ization)                                                                                         \n",
      "                                                                                                  \n",
      " block_4_expand_relu (ReLU)     (None, 40, 40, 192)  0           ['block_4_expand_BN[0][0]']      \n",
      "                                                                                                  \n",
      " block_4_depthwise (DepthwiseCo  (None, 40, 40, 192)  1728       ['block_4_expand_relu[0][0]']    \n",
      " nv2D)                                                                                            \n",
      "                                                                                                  \n",
      " block_4_depthwise_BN (BatchNor  (None, 40, 40, 192)  768        ['block_4_depthwise[0][0]']      \n",
      " malization)                                                                                      \n",
      "                                                                                                  \n",
      " block_4_depthwise_relu (ReLU)  (None, 40, 40, 192)  0           ['block_4_depthwise_BN[0][0]']   \n",
      "                                                                                                  \n",
      " block_4_project (Conv2D)       (None, 40, 40, 32)   6144        ['block_4_depthwise_relu[0][0]'] \n",
      "                                                                                                  \n",
      " block_4_project_BN (BatchNorma  (None, 40, 40, 32)  128         ['block_4_project[0][0]']        \n",
      " lization)                                                                                        \n",
      "                                                                                                  \n",
      " block_4_add (Add)              (None, 40, 40, 32)   0           ['block_3_project_BN[0][0]',     \n",
      "                                                                  'block_4_project_BN[0][0]']     \n",
      "                                                                                                  \n",
      " block_5_expand (Conv2D)        (None, 40, 40, 192)  6144        ['block_4_add[0][0]']            \n",
      "                                                                                                  \n",
      " block_5_expand_BN (BatchNormal  (None, 40, 40, 192)  768        ['block_5_expand[0][0]']         \n",
      " ization)                                                                                         \n",
      "                                                                                                  \n",
      " block_5_expand_relu (ReLU)     (None, 40, 40, 192)  0           ['block_5_expand_BN[0][0]']      \n",
      "                                                                                                  \n",
      " block_5_depthwise (DepthwiseCo  (None, 40, 40, 192)  1728       ['block_5_expand_relu[0][0]']    \n",
      " nv2D)                                                                                            \n",
      "                                                                                                  \n",
      " block_5_depthwise_BN (BatchNor  (None, 40, 40, 192)  768        ['block_5_depthwise[0][0]']      \n",
      " malization)                                                                                      \n",
      "                                                                                                  \n",
      " block_5_depthwise_relu (ReLU)  (None, 40, 40, 192)  0           ['block_5_depthwise_BN[0][0]']   \n",
      "                                                                                                  \n",
      " block_5_project (Conv2D)       (None, 40, 40, 32)   6144        ['block_5_depthwise_relu[0][0]'] \n",
      "                                                                                                  \n",
      " block_5_project_BN (BatchNorma  (None, 40, 40, 32)  128         ['block_5_project[0][0]']        \n",
      " lization)                                                                                        \n",
      "                                                                                                  \n",
      " block_5_add (Add)              (None, 40, 40, 32)   0           ['block_4_add[0][0]',            \n",
      "                                                                  'block_5_project_BN[0][0]']     \n",
      "                                                                                                  \n",
      " block_6_expand (Conv2D)        (None, 40, 40, 192)  6144        ['block_5_add[0][0]']            \n",
      "                                                                                                  \n",
      " block_6_expand_BN (BatchNormal  (None, 40, 40, 192)  768        ['block_6_expand[0][0]']         \n",
      " ization)                                                                                         \n",
      "                                                                                                  \n",
      " block_6_expand_relu (ReLU)     (None, 40, 40, 192)  0           ['block_6_expand_BN[0][0]']      \n",
      "                                                                                                  \n",
      " block_6_pad (ZeroPadding2D)    (None, 41, 41, 192)  0           ['block_6_expand_relu[0][0]']    \n",
      "                                                                                                  \n",
      " block_6_depthwise (DepthwiseCo  (None, 20, 20, 192)  1728       ['block_6_pad[0][0]']            \n",
      " nv2D)                                                                                            \n",
      "                                                                                                  \n",
      " block_6_depthwise_BN (BatchNor  (None, 20, 20, 192)  768        ['block_6_depthwise[0][0]']      \n",
      " malization)                                                                                      \n",
      "                                                                                                  \n",
      " block_6_depthwise_relu (ReLU)  (None, 20, 20, 192)  0           ['block_6_depthwise_BN[0][0]']   \n",
      "                                                                                                  \n",
      " block_6_project (Conv2D)       (None, 20, 20, 64)   12288       ['block_6_depthwise_relu[0][0]'] \n",
      "                                                                                                  \n",
      " block_6_project_BN (BatchNorma  (None, 20, 20, 64)  256         ['block_6_project[0][0]']        \n",
      " lization)                                                                                        \n",
      "                                                                                                  \n",
      " block_7_expand (Conv2D)        (None, 20, 20, 384)  24576       ['block_6_project_BN[0][0]']     \n",
      "                                                                                                  \n",
      " block_7_expand_BN (BatchNormal  (None, 20, 20, 384)  1536       ['block_7_expand[0][0]']         \n",
      " ization)                                                                                         \n",
      "                                                                                                  \n",
      " block_7_expand_relu (ReLU)     (None, 20, 20, 384)  0           ['block_7_expand_BN[0][0]']      \n",
      "                                                                                                  \n",
      " block_7_depthwise (DepthwiseCo  (None, 20, 20, 384)  3456       ['block_7_expand_relu[0][0]']    \n",
      " nv2D)                                                                                            \n",
      "                                                                                                  \n",
      " block_7_depthwise_BN (BatchNor  (None, 20, 20, 384)  1536       ['block_7_depthwise[0][0]']      \n",
      " malization)                                                                                      \n",
      "                                                                                                  \n",
      " block_7_depthwise_relu (ReLU)  (None, 20, 20, 384)  0           ['block_7_depthwise_BN[0][0]']   \n",
      "                                                                                                  \n",
      " block_7_project (Conv2D)       (None, 20, 20, 64)   24576       ['block_7_depthwise_relu[0][0]'] \n",
      "                                                                                                  \n",
      " block_7_project_BN (BatchNorma  (None, 20, 20, 64)  256         ['block_7_project[0][0]']        \n",
      " lization)                                                                                        \n",
      "                                                                                                  \n",
      " block_7_add (Add)              (None, 20, 20, 64)   0           ['block_6_project_BN[0][0]',     \n",
      "                                                                  'block_7_project_BN[0][0]']     \n",
      "                                                                                                  \n",
      " block_8_expand (Conv2D)        (None, 20, 20, 384)  24576       ['block_7_add[0][0]']            \n",
      "                                                                                                  \n",
      " block_8_expand_BN (BatchNormal  (None, 20, 20, 384)  1536       ['block_8_expand[0][0]']         \n",
      " ization)                                                                                         \n",
      "                                                                                                  \n",
      " block_8_expand_relu (ReLU)     (None, 20, 20, 384)  0           ['block_8_expand_BN[0][0]']      \n",
      "                                                                                                  \n",
      " block_8_depthwise (DepthwiseCo  (None, 20, 20, 384)  3456       ['block_8_expand_relu[0][0]']    \n",
      " nv2D)                                                                                            \n",
      "                                                                                                  \n",
      " block_8_depthwise_BN (BatchNor  (None, 20, 20, 384)  1536       ['block_8_depthwise[0][0]']      \n",
      " malization)                                                                                      \n",
      "                                                                                                  \n",
      " block_8_depthwise_relu (ReLU)  (None, 20, 20, 384)  0           ['block_8_depthwise_BN[0][0]']   \n",
      "                                                                                                  \n",
      " block_8_project (Conv2D)       (None, 20, 20, 64)   24576       ['block_8_depthwise_relu[0][0]'] \n",
      "                                                                                                  \n",
      " block_8_project_BN (BatchNorma  (None, 20, 20, 64)  256         ['block_8_project[0][0]']        \n",
      " lization)                                                                                        \n",
      "                                                                                                  \n",
      " block_8_add (Add)              (None, 20, 20, 64)   0           ['block_7_add[0][0]',            \n",
      "                                                                  'block_8_project_BN[0][0]']     \n",
      "                                                                                                  \n",
      " block_9_expand (Conv2D)        (None, 20, 20, 384)  24576       ['block_8_add[0][0]']            \n",
      "                                                                                                  \n",
      " block_9_expand_BN (BatchNormal  (None, 20, 20, 384)  1536       ['block_9_expand[0][0]']         \n",
      " ization)                                                                                         \n",
      "                                                                                                  \n",
      " block_9_expand_relu (ReLU)     (None, 20, 20, 384)  0           ['block_9_expand_BN[0][0]']      \n",
      "                                                                                                  \n",
      " block_9_depthwise (DepthwiseCo  (None, 20, 20, 384)  3456       ['block_9_expand_relu[0][0]']    \n",
      " nv2D)                                                                                            \n",
      "                                                                                                  \n",
      " block_9_depthwise_BN (BatchNor  (None, 20, 20, 384)  1536       ['block_9_depthwise[0][0]']      \n",
      " malization)                                                                                      \n",
      "                                                                                                  \n",
      " block_9_depthwise_relu (ReLU)  (None, 20, 20, 384)  0           ['block_9_depthwise_BN[0][0]']   \n",
      "                                                                                                  \n",
      " block_9_project (Conv2D)       (None, 20, 20, 64)   24576       ['block_9_depthwise_relu[0][0]'] \n",
      "                                                                                                  \n",
      " block_9_project_BN (BatchNorma  (None, 20, 20, 64)  256         ['block_9_project[0][0]']        \n",
      " lization)                                                                                        \n",
      "                                                                                                  \n",
      " block_9_add (Add)              (None, 20, 20, 64)   0           ['block_8_add[0][0]',            \n",
      "                                                                  'block_9_project_BN[0][0]']     \n",
      "                                                                                                  \n",
      " block_10_expand (Conv2D)       (None, 20, 20, 384)  24576       ['block_9_add[0][0]']            \n",
      "                                                                                                  \n",
      " block_10_expand_BN (BatchNorma  (None, 20, 20, 384)  1536       ['block_10_expand[0][0]']        \n",
      " lization)                                                                                        \n",
      "                                                                                                  \n",
      " block_10_expand_relu (ReLU)    (None, 20, 20, 384)  0           ['block_10_expand_BN[0][0]']     \n",
      "                                                                                                  \n",
      " block_10_depthwise (DepthwiseC  (None, 20, 20, 384)  3456       ['block_10_expand_relu[0][0]']   \n",
      " onv2D)                                                                                           \n",
      "                                                                                                  \n",
      " block_10_depthwise_BN (BatchNo  (None, 20, 20, 384)  1536       ['block_10_depthwise[0][0]']     \n",
      " rmalization)                                                                                     \n",
      "                                                                                                  \n",
      " block_10_depthwise_relu (ReLU)  (None, 20, 20, 384)  0          ['block_10_depthwise_BN[0][0]']  \n",
      "                                                                                                  \n",
      " block_10_project (Conv2D)      (None, 20, 20, 96)   36864       ['block_10_depthwise_relu[0][0]']\n",
      "                                                                                                  \n",
      " block_10_project_BN (BatchNorm  (None, 20, 20, 96)  384         ['block_10_project[0][0]']       \n",
      " alization)                                                                                       \n",
      "                                                                                                  \n",
      " block_11_expand (Conv2D)       (None, 20, 20, 576)  55296       ['block_10_project_BN[0][0]']    \n",
      "                                                                                                  \n",
      " block_11_expand_BN (BatchNorma  (None, 20, 20, 576)  2304       ['block_11_expand[0][0]']        \n",
      " lization)                                                                                        \n",
      "                                                                                                  \n",
      " block_11_expand_relu (ReLU)    (None, 20, 20, 576)  0           ['block_11_expand_BN[0][0]']     \n",
      "                                                                                                  \n",
      " block_11_depthwise (DepthwiseC  (None, 20, 20, 576)  5184       ['block_11_expand_relu[0][0]']   \n",
      " onv2D)                                                                                           \n",
      "                                                                                                  \n",
      " block_11_depthwise_BN (BatchNo  (None, 20, 20, 576)  2304       ['block_11_depthwise[0][0]']     \n",
      " rmalization)                                                                                     \n",
      "                                                                                                  \n",
      " block_11_depthwise_relu (ReLU)  (None, 20, 20, 576)  0          ['block_11_depthwise_BN[0][0]']  \n",
      "                                                                                                  \n",
      " block_11_project (Conv2D)      (None, 20, 20, 96)   55296       ['block_11_depthwise_relu[0][0]']\n",
      "                                                                                                  \n",
      " block_11_project_BN (BatchNorm  (None, 20, 20, 96)  384         ['block_11_project[0][0]']       \n",
      " alization)                                                                                       \n",
      "                                                                                                  \n",
      " block_11_add (Add)             (None, 20, 20, 96)   0           ['block_10_project_BN[0][0]',    \n",
      "                                                                  'block_11_project_BN[0][0]']    \n",
      "                                                                                                  \n",
      " block_12_expand (Conv2D)       (None, 20, 20, 576)  55296       ['block_11_add[0][0]']           \n",
      "                                                                                                  \n",
      " block_12_expand_BN (BatchNorma  (None, 20, 20, 576)  2304       ['block_12_expand[0][0]']        \n",
      " lization)                                                                                        \n",
      "                                                                                                  \n",
      " block_12_expand_relu (ReLU)    (None, 20, 20, 576)  0           ['block_12_expand_BN[0][0]']     \n",
      "                                                                                                  \n",
      " block_12_depthwise (DepthwiseC  (None, 20, 20, 576)  5184       ['block_12_expand_relu[0][0]']   \n",
      " onv2D)                                                                                           \n",
      "                                                                                                  \n",
      " block_12_depthwise_BN (BatchNo  (None, 20, 20, 576)  2304       ['block_12_depthwise[0][0]']     \n",
      " rmalization)                                                                                     \n",
      "                                                                                                  \n",
      " block_12_depthwise_relu (ReLU)  (None, 20, 20, 576)  0          ['block_12_depthwise_BN[0][0]']  \n",
      "                                                                                                  \n",
      " block_12_project (Conv2D)      (None, 20, 20, 96)   55296       ['block_12_depthwise_relu[0][0]']\n",
      "                                                                                                  \n",
      " block_12_project_BN (BatchNorm  (None, 20, 20, 96)  384         ['block_12_project[0][0]']       \n",
      " alization)                                                                                       \n",
      "                                                                                                  \n",
      " block_12_add (Add)             (None, 20, 20, 96)   0           ['block_11_add[0][0]',           \n",
      "                                                                  'block_12_project_BN[0][0]']    \n",
      "                                                                                                  \n",
      " block_13_expand (Conv2D)       (None, 20, 20, 576)  55296       ['block_12_add[0][0]']           \n",
      "                                                                                                  \n",
      " block_13_expand_BN (BatchNorma  (None, 20, 20, 576)  2304       ['block_13_expand[0][0]']        \n",
      " lization)                                                                                        \n",
      "                                                                                                  \n",
      " block_13_expand_relu (ReLU)    (None, 20, 20, 576)  0           ['block_13_expand_BN[0][0]']     \n",
      "                                                                                                  \n",
      " block_13_pad (ZeroPadding2D)   (None, 21, 21, 576)  0           ['block_13_expand_relu[0][0]']   \n",
      "                                                                                                  \n",
      " block_13_depthwise (DepthwiseC  (None, 10, 10, 576)  5184       ['block_13_pad[0][0]']           \n",
      " onv2D)                                                                                           \n",
      "                                                                                                  \n",
      " block_13_depthwise_BN (BatchNo  (None, 10, 10, 576)  2304       ['block_13_depthwise[0][0]']     \n",
      " rmalization)                                                                                     \n",
      "                                                                                                  \n",
      " block_13_depthwise_relu (ReLU)  (None, 10, 10, 576)  0          ['block_13_depthwise_BN[0][0]']  \n",
      "                                                                                                  \n",
      " block_13_project (Conv2D)      (None, 10, 10, 160)  92160       ['block_13_depthwise_relu[0][0]']\n",
      "                                                                                                  \n",
      " block_13_project_BN (BatchNorm  (None, 10, 10, 160)  640        ['block_13_project[0][0]']       \n",
      " alization)                                                                                       \n",
      "                                                                                                  \n",
      " block_14_expand (Conv2D)       (None, 10, 10, 960)  153600      ['block_13_project_BN[0][0]']    \n",
      "                                                                                                  \n",
      " block_14_expand_BN (BatchNorma  (None, 10, 10, 960)  3840       ['block_14_expand[0][0]']        \n",
      " lization)                                                                                        \n",
      "                                                                                                  \n",
      " block_14_expand_relu (ReLU)    (None, 10, 10, 960)  0           ['block_14_expand_BN[0][0]']     \n",
      "                                                                                                  \n",
      " block_14_depthwise (DepthwiseC  (None, 10, 10, 960)  8640       ['block_14_expand_relu[0][0]']   \n",
      " onv2D)                                                                                           \n",
      "                                                                                                  \n",
      " block_14_depthwise_BN (BatchNo  (None, 10, 10, 960)  3840       ['block_14_depthwise[0][0]']     \n",
      " rmalization)                                                                                     \n",
      "                                                                                                  \n",
      " block_14_depthwise_relu (ReLU)  (None, 10, 10, 960)  0          ['block_14_depthwise_BN[0][0]']  \n",
      "                                                                                                  \n",
      " block_14_project (Conv2D)      (None, 10, 10, 160)  153600      ['block_14_depthwise_relu[0][0]']\n",
      "                                                                                                  \n",
      " block_14_project_BN (BatchNorm  (None, 10, 10, 160)  640        ['block_14_project[0][0]']       \n",
      " alization)                                                                                       \n",
      "                                                                                                  \n",
      " block_14_add (Add)             (None, 10, 10, 160)  0           ['block_13_project_BN[0][0]',    \n",
      "                                                                  'block_14_project_BN[0][0]']    \n",
      "                                                                                                  \n",
      " block_15_expand (Conv2D)       (None, 10, 10, 960)  153600      ['block_14_add[0][0]']           \n",
      "                                                                                                  \n",
      " block_15_expand_BN (BatchNorma  (None, 10, 10, 960)  3840       ['block_15_expand[0][0]']        \n",
      " lization)                                                                                        \n",
      "                                                                                                  \n",
      " block_15_expand_relu (ReLU)    (None, 10, 10, 960)  0           ['block_15_expand_BN[0][0]']     \n",
      "                                                                                                  \n",
      " block_15_depthwise (DepthwiseC  (None, 10, 10, 960)  8640       ['block_15_expand_relu[0][0]']   \n",
      " onv2D)                                                                                           \n",
      "                                                                                                  \n",
      " block_15_depthwise_BN (BatchNo  (None, 10, 10, 960)  3840       ['block_15_depthwise[0][0]']     \n",
      " rmalization)                                                                                     \n",
      "                                                                                                  \n",
      " block_15_depthwise_relu (ReLU)  (None, 10, 10, 960)  0          ['block_15_depthwise_BN[0][0]']  \n",
      "                                                                                                  \n",
      " block_15_project (Conv2D)      (None, 10, 10, 160)  153600      ['block_15_depthwise_relu[0][0]']\n",
      "                                                                                                  \n",
      " block_15_project_BN (BatchNorm  (None, 10, 10, 160)  640        ['block_15_project[0][0]']       \n",
      " alization)                                                                                       \n",
      "                                                                                                  \n",
      " block_15_add (Add)             (None, 10, 10, 160)  0           ['block_14_add[0][0]',           \n",
      "                                                                  'block_15_project_BN[0][0]']    \n",
      "                                                                                                  \n",
      " block_16_expand (Conv2D)       (None, 10, 10, 960)  153600      ['block_15_add[0][0]']           \n",
      "                                                                                                  \n",
      " block_16_expand_BN (BatchNorma  (None, 10, 10, 960)  3840       ['block_16_expand[0][0]']        \n",
      " lization)                                                                                        \n",
      "                                                                                                  \n",
      " block_16_expand_relu (ReLU)    (None, 10, 10, 960)  0           ['block_16_expand_BN[0][0]']     \n",
      "                                                                                                  \n",
      " block_16_depthwise (DepthwiseC  (None, 10, 10, 960)  8640       ['block_16_expand_relu[0][0]']   \n",
      " onv2D)                                                                                           \n",
      "                                                                                                  \n",
      " block_16_depthwise_BN (BatchNo  (None, 10, 10, 960)  3840       ['block_16_depthwise[0][0]']     \n",
      " rmalization)                                                                                     \n",
      "                                                                                                  \n",
      " block_16_depthwise_relu (ReLU)  (None, 10, 10, 960)  0          ['block_16_depthwise_BN[0][0]']  \n",
      "                                                                                                  \n",
      " block_16_project (Conv2D)      (None, 10, 10, 320)  307200      ['block_16_depthwise_relu[0][0]']\n",
      "                                                                                                  \n",
      " block_16_project_BN (BatchNorm  (None, 10, 10, 320)  1280       ['block_16_project[0][0]']       \n",
      " alization)                                                                                       \n",
      "                                                                                                  \n",
      " Conv_1 (Conv2D)                (None, 10, 10, 1280  409600      ['block_16_project_BN[0][0]']    \n",
      "                                )                                                                 \n",
      "                                                                                                  \n",
      " Conv_1_bn (BatchNormalization)  (None, 10, 10, 1280  5120       ['Conv_1[0][0]']                 \n",
      "                                )                                                                 \n",
      "                                                                                                  \n",
      " out_relu (ReLU)                (None, 10, 10, 1280  0           ['Conv_1_bn[0][0]']              \n",
      "                                )                                                                 \n",
      "                                                                                                  \n",
      " flatten (Flatten)              (None, 128000)       0           ['out_relu[0][0]']               \n",
      "                                                                                                  \n",
      " dense (Dense)                  (None, 128)          16384128    ['flatten[0][0]']                \n",
      "                                                                                                  \n",
      " dense_1 (Dense)                (None, 64)           8256        ['dense[0][0]']                  \n",
      "                                                                                                  \n",
      " dense_2 (Dense)                (None, 32)           2080        ['dense_1[0][0]']                \n",
      "                                                                                                  \n",
      " dense_3 (Dense)                (None, 256)          32768256    ['flatten[0][0]']                \n",
      "                                                                                                  \n",
      " dropout (Dropout)              (None, 32)           0           ['dense_2[0][0]']                \n",
      "                                                                                                  \n",
      " dense_4 (Dense)                (None, 128)          32896       ['dense_3[0][0]']                \n",
      "                                                                                                  \n",
      " bounding_box (Dense)           (None, 4)            132         ['dropout[0][0]']                \n",
      "                                                                                                  \n",
      " class_label (Dense)            (None, 4)            516         ['dense_4[0][0]']                \n",
      "                                                                                                  \n",
      "==================================================================================================\n",
      "Total params: 51,454,248\n",
      "Trainable params: 49,196,264\n",
      "Non-trainable params: 2,257,984\n",
      "__________________________________________________________________________________________________\n"
     ]
    }
   ],
   "source": [
    "input_images = Input(shape=(320, 320, 3), name=\"input_images\")\n",
    "\n",
    "base_model = MobileNetV2(\n",
    "    weights=\"imagenet\", include_top=False, input_tensor=input_images\n",
    ")\n",
    "base_model.trainable = False\n",
    "base_out = base_model.output\n",
    "flatten_output = Flatten()(base_out)  # transform matrix into array 1D\n",
    "bbox_layers = Dense(128, activation=\"relu\")(flatten_output)\n",
    "bbox_layers = Dense(64, activation=\"relu\")(bbox_layers)\n",
    "bbox_layers = Dense(32, activation=\"relu\")(bbox_layers)\n",
    "bbox_layers = Dropout(0.3)(bbox_layers)\n",
    "\n",
    "label_layers = Dense(256, activation=\"relu\")(flatten_output)\n",
    "label_layers = Dense(128, activation=\"relu\")(label_layers)\n",
    "\n",
    "bounding_box = Dense(4, activation=\"sigmoid\", name=\"bounding_box\")(bbox_layers)\n",
    "predictions_class = Dense(\n",
    "    len(classes), activation=\"softmax\", name=\"class_label\"\n",
    ")(label_layers)\n",
    "\n",
    "model_ssd = Model(\n",
    "    inputs=base_model.input,\n",
    "    outputs=(bounding_box, predictions_class),\n",
    ")\n",
    "model_ssd.compile(\n",
    "    optimizer=opt,\n",
    "    loss=losses,\n",
    "    metrics=[\"accuracy\"],\n",
    ")\n",
    "model_ssd.summary()"
   ]
  },
  {
   "cell_type": "code",
   "execution_count": 29,
   "metadata": {},
   "outputs": [
    {
     "name": "stdout",
     "output_type": "stream",
     "text": [
      "Epoch 1/15\n",
      "34/34 [==============================] - 60s 2s/step - loss: 2.3188 - bounding_box_loss: 0.1515 - class_label_loss: 2.1672 - bounding_box_accuracy: 0.8571 - class_label_accuracy: 0.8976 - val_loss: 0.2539 - val_bounding_box_loss: 0.1448 - val_class_label_loss: 0.1091 - val_bounding_box_accuracy: 0.8864 - val_class_label_accuracy: 0.9870\n",
      "Epoch 2/15\n",
      "34/34 [==============================] - 46s 1s/step - loss: 0.2887 - bounding_box_loss: 0.1531 - class_label_loss: 0.1356 - bounding_box_accuracy: 0.8496 - class_label_accuracy: 0.9893 - val_loss: 0.4322 - val_bounding_box_loss: 0.1850 - val_class_label_loss: 0.2472 - val_bounding_box_accuracy: 0.8305 - val_class_label_accuracy: 0.9888\n",
      "Epoch 3/15\n",
      "34/34 [==============================] - 48s 1s/step - loss: 0.3200 - bounding_box_loss: 0.1614 - class_label_loss: 0.1587 - bounding_box_accuracy: 0.7495 - class_label_accuracy: 0.9902 - val_loss: 0.5148 - val_bounding_box_loss: 0.1448 - val_class_label_loss: 0.3700 - val_bounding_box_accuracy: 0.8883 - val_class_label_accuracy: 0.9851\n",
      "Epoch 4/15\n",
      "34/34 [==============================] - 48s 1s/step - loss: 0.1968 - bounding_box_loss: 0.1488 - class_label_loss: 0.0480 - bounding_box_accuracy: 0.8911 - class_label_accuracy: 0.9972 - val_loss: 0.1704 - val_bounding_box_loss: 0.1452 - val_class_label_loss: 0.0253 - val_bounding_box_accuracy: 0.8864 - val_class_label_accuracy: 0.9981\n",
      "Epoch 5/15\n",
      "34/34 [==============================] - 47s 1s/step - loss: 0.1555 - bounding_box_loss: 0.1469 - class_label_loss: 0.0086 - bounding_box_accuracy: 0.8999 - class_label_accuracy: 0.9986 - val_loss: 0.1945 - val_bounding_box_loss: 0.1452 - val_class_label_loss: 0.0493 - val_bounding_box_accuracy: 0.8864 - val_class_label_accuracy: 0.9981\n",
      "Epoch 6/15\n",
      "34/34 [==============================] - 46s 1s/step - loss: 0.1518 - bounding_box_loss: 0.1476 - class_label_loss: 0.0042 - bounding_box_accuracy: 0.8887 - class_label_accuracy: 0.9991 - val_loss: 0.4639 - val_bounding_box_loss: 0.1448 - val_class_label_loss: 0.3190 - val_bounding_box_accuracy: 0.8864 - val_class_label_accuracy: 0.9888\n",
      "Epoch 7/15\n",
      "34/34 [==============================] - 45s 1s/step - loss: 0.1501 - bounding_box_loss: 0.1471 - class_label_loss: 0.0030 - bounding_box_accuracy: 0.9022 - class_label_accuracy: 0.9995 - val_loss: 0.2359 - val_bounding_box_loss: 0.1448 - val_class_label_loss: 0.0911 - val_bounding_box_accuracy: 0.8883 - val_class_label_accuracy: 0.9963\n",
      "Epoch 8/15\n",
      "34/34 [==============================] - 45s 1s/step - loss: 0.1492 - bounding_box_loss: 0.1474 - class_label_loss: 0.0018 - bounding_box_accuracy: 0.9013 - class_label_accuracy: 0.9995 - val_loss: 0.2194 - val_bounding_box_loss: 0.1448 - val_class_label_loss: 0.0746 - val_bounding_box_accuracy: 0.8883 - val_class_label_accuracy: 0.9963\n",
      "Epoch 9/15\n",
      "34/34 [==============================] - 46s 1s/step - loss: 0.1476 - bounding_box_loss: 0.1476 - class_label_loss: 9.8785e-09 - bounding_box_accuracy: 0.8999 - class_label_accuracy: 1.0000 - val_loss: 0.2315 - val_bounding_box_loss: 0.1448 - val_class_label_loss: 0.0867 - val_bounding_box_accuracy: 0.8883 - val_class_label_accuracy: 0.9963\n",
      "Epoch 10/15\n",
      "34/34 [==============================] - 46s 1s/step - loss: 0.1469 - bounding_box_loss: 0.1469 - class_label_loss: 9.8230e-09 - bounding_box_accuracy: 0.9041 - class_label_accuracy: 1.0000 - val_loss: 0.2322 - val_bounding_box_loss: 0.1451 - val_class_label_loss: 0.0871 - val_bounding_box_accuracy: 0.8883 - val_class_label_accuracy: 0.9963\n",
      "Epoch 11/15\n",
      "34/34 [==============================] - 47s 1s/step - loss: 0.1470 - bounding_box_loss: 0.1470 - class_label_loss: 9.7120e-09 - bounding_box_accuracy: 0.9041 - class_label_accuracy: 1.0000 - val_loss: 0.2322 - val_bounding_box_loss: 0.1451 - val_class_label_loss: 0.0871 - val_bounding_box_accuracy: 0.8883 - val_class_label_accuracy: 0.9963\n",
      "Epoch 12/15\n",
      "34/34 [==============================] - 48s 1s/step - loss: 0.1470 - bounding_box_loss: 0.1470 - class_label_loss: 9.7120e-09 - bounding_box_accuracy: 0.9041 - class_label_accuracy: 1.0000 - val_loss: 0.2322 - val_bounding_box_loss: 0.1451 - val_class_label_loss: 0.0871 - val_bounding_box_accuracy: 0.8883 - val_class_label_accuracy: 0.9963\n",
      "Epoch 13/15\n",
      "34/34 [==============================] - 49s 1s/step - loss: 0.1473 - bounding_box_loss: 0.1473 - class_label_loss: 9.6010e-09 - bounding_box_accuracy: 0.9027 - class_label_accuracy: 1.0000 - val_loss: 0.2322 - val_bounding_box_loss: 0.1451 - val_class_label_loss: 0.0871 - val_bounding_box_accuracy: 0.8883 - val_class_label_accuracy: 0.9963\n",
      "Epoch 14/15\n",
      "34/34 [==============================] - 49s 1s/step - loss: 0.1472 - bounding_box_loss: 0.1472 - class_label_loss: 9.5455e-09 - bounding_box_accuracy: 0.9032 - class_label_accuracy: 1.0000 - val_loss: 0.2322 - val_bounding_box_loss: 0.1451 - val_class_label_loss: 0.0871 - val_bounding_box_accuracy: 0.8883 - val_class_label_accuracy: 0.9963\n",
      "Epoch 15/15\n",
      "34/34 [==============================] - 48s 1s/step - loss: 0.1473 - bounding_box_loss: 0.1473 - class_label_loss: 9.4900e-09 - bounding_box_accuracy: 0.9046 - class_label_accuracy: 1.0000 - val_loss: 0.2322 - val_bounding_box_loss: 0.1451 - val_class_label_loss: 0.0871 - val_bounding_box_accuracy: 0.8883 - val_class_label_accuracy: 0.9963\n"
     ]
    }
   ],
   "source": [
    "with tf.device(\"/CPU:0\"):\n",
    "    model_ssd.fit(\n",
    "        train_images,\n",
    "        train_targets,\n",
    "        validation_data=(\n",
    "            val_images,\n",
    "            val_targets,\n",
    "        ),\n",
    "        epochs=15,\n",
    "        batch_size=64,\n",
    "        verbose=1,\n",
    "    )"
   ]
  },
  {
   "cell_type": "code",
   "execution_count": 30,
   "metadata": {},
   "outputs": [],
   "source": [
    "model_ssd.save(\"./ssd_model/model.h5\")"
   ]
  },
  {
   "cell_type": "code",
   "execution_count": null,
   "metadata": {},
   "outputs": [],
   "source": []
  }
 ],
 "metadata": {
  "kernelspec": {
   "display_name": "base",
   "language": "python",
   "name": "python3"
  },
  "language_info": {
   "codemirror_mode": {
    "name": "ipython",
    "version": 3
   },
   "file_extension": ".py",
   "mimetype": "text/x-python",
   "name": "python",
   "nbconvert_exporter": "python",
   "pygments_lexer": "ipython3",
   "version": "3.9.13"
  }
 },
 "nbformat": 4,
 "nbformat_minor": 2
}
